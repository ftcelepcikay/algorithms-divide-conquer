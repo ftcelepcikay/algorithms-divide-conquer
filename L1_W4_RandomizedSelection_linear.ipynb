{
  "nbformat": 4,
  "nbformat_minor": 0,
  "metadata": {
    "colab": {
      "name": "L1_W4_RandomizedSelection_linear.ipynb",
      "provenance": [],
      "collapsed_sections": [],
      "authorship_tag": "ABX9TyNcQGle778T3vYZWn0IB3Hs",
      "include_colab_link": true
    },
    "kernelspec": {
      "name": "python3",
      "display_name": "Python 3"
    },
    "language_info": {
      "name": "python"
    }
  },
  "cells": [
    {
      "cell_type": "markdown",
      "metadata": {
        "id": "view-in-github",
        "colab_type": "text"
      },
      "source": [
        "<a href=\"https://colab.research.google.com/github/ftcelepcikay/algorithms-divide-conquer/blob/master/L1_W4_RandomizedSelection_linear.ipynb\" target=\"_parent\"><img src=\"https://colab.research.google.com/assets/colab-badge.svg\" alt=\"Open In Colab\"/></a>"
      ]
    },
    {
      "cell_type": "code",
      "metadata": {
        "id": "GXI0WpR1RzBQ"
      },
      "source": [
        "def partition(A):\n",
        "  l = 0\n",
        "  r = len(A)\n",
        "  #print(\"A:\", A, \" ,l:\",l, \", r:\",r)\n",
        "  piv = A[l]\n",
        "  i = l+1\n",
        "  for j in range(i,r):\n",
        "    \n",
        "    if(A[j]<piv):\n",
        "      A[j], A[i] = A[i], A[j]\n",
        "      i += 1\n",
        "    #print(\"**********\")\n",
        "    #print(\"j: \", j)\n",
        "    #print(\"i: \", i)\n",
        "    #print(\"A: \", A)    \n",
        "  A[l], A[i-1] = A[i-1], A[l]\n",
        "  return i-1 "
      ],
      "execution_count": 1,
      "outputs": []
    },
    {
      "cell_type": "code",
      "metadata": {
        "id": "rilm4S0ZR3pC"
      },
      "source": [
        "def Rselect(A, i):   # m is method\n",
        "  #print(\"A: \", A)\n",
        "  #print(\"i: \", i)\n",
        "  n = len(A)\n",
        "  if(i>=n):\n",
        "    print(\"please enter an index smaller than array length\")\n",
        "    return\n",
        "  if(n == 1):\n",
        "    return A[0] \n",
        "  \n",
        "  j = partition(A)  \n",
        "\n",
        "  if (j == i):\n",
        "    return A[j]\n",
        "  elif (j > i):\n",
        "    return Rselect(A[:j],i)\n",
        "  else:\n",
        "    return Rselect(A[j+1:],i-j-1) \n"
      ],
      "execution_count": 2,
      "outputs": []
    },
    {
      "cell_type": "code",
      "metadata": {
        "colab": {
          "base_uri": "https://localhost:8080/"
        },
        "id": "xBn-lZftR4eB",
        "outputId": "7856d5a2-9f5e-4b5f-a36e-98d25ce475fd"
      },
      "source": [
        "#TEST CASE - 1\n",
        "#m=1\n",
        "A = [4,3,2,5,1]\n",
        "print(\"sorted A[1]: \", Rselect(A, 1))\n",
        "print()\n",
        "\n",
        "A = [4,3,2,5,1]\n",
        "print(\"sorted A[2]: \", Rselect(A, 2))\n",
        "print()\n",
        "\n",
        "A = [4,3,2,5,1]\n",
        "print(\"sorted A[3]: \", Rselect(A, 3))\n",
        "print()\n",
        "\n",
        "A = [4,3,2,5,1]\n",
        "print(\"sorted A[4]: \", Rselect(A, 4))\n",
        "print()\n",
        "\n",
        "A = [4,3,2,5,1]\n",
        "print(\"sorted A[5]: \", Rselect(A, 5))\n",
        "print()\n",
        "\n",
        "\n"
      ],
      "execution_count": 3,
      "outputs": [
        {
          "output_type": "stream",
          "text": [
            "sorted A[1]:  2\n",
            "\n",
            "sorted A[2]:  3\n",
            "\n",
            "sorted A[3]:  4\n",
            "\n",
            "sorted A[4]:  5\n",
            "\n",
            "please enter an index smaller than array length\n",
            "sorted A[5]:  None\n",
            "\n"
          ],
          "name": "stdout"
        }
      ]
    },
    {
      "cell_type": "code",
      "metadata": {
        "colab": {
          "base_uri": "https://localhost:8080/"
        },
        "id": "GoopRqGVR797",
        "outputId": "f99fc6e2-b526-4706-9e8e-9fd8d34f2978"
      },
      "source": [
        "#TEST CASE - 2\n",
        "\n",
        "A = [3,8,2,5,1,4,7,6,0]\n",
        "print(\"sorted A[0]: \", Rselect(A, 0))\n",
        "print()\n",
        "A = [3,8,2,5,1,4,7,6,0]\n",
        "print(\"sorted A[3]: \", Rselect(A, 3))\n",
        "print()\n",
        "A = [3,8,2,5,1,4,7,6,0]\n",
        "print(\"sorted A[6]: \", Rselect(A, 6))\n",
        "print()\n"
      ],
      "execution_count": 4,
      "outputs": [
        {
          "output_type": "stream",
          "text": [
            "sorted A[0]:  0\n",
            "\n",
            "sorted A[3]:  3\n",
            "\n",
            "sorted A[6]:  6\n",
            "\n"
          ],
          "name": "stdout"
        }
      ]
    },
    {
      "cell_type": "code",
      "metadata": {
        "colab": {
          "base_uri": "https://localhost:8080/"
        },
        "id": "BbE8gzUemFTu",
        "outputId": "02085f4c-eb86-4e1d-fdb7-a4fbebe2bb5b"
      },
      "source": [
        "#TEST CASE - 3\n",
        "\n",
        "A = [13,18,12,15,11,14,17,16,10]\n",
        "print(\"sorted A[0]: \", Rselect(A, 0))\n",
        "print()\n",
        "A = [13,18,12,15,11,14,17,16,10]\n",
        "print(\"sorted A[3]: \", Rselect(A, 3))\n",
        "print()\n",
        "A = [13,18,12,15,11,14,17,16,10]\n",
        "print(\"sorted A[6]: \", Rselect(A, 6))\n",
        "print()"
      ],
      "execution_count": 5,
      "outputs": [
        {
          "output_type": "stream",
          "text": [
            "sorted A[0]:  10\n",
            "\n",
            "sorted A[3]:  13\n",
            "\n",
            "sorted A[6]:  16\n",
            "\n"
          ],
          "name": "stdout"
        }
      ]
    },
    {
      "cell_type": "code",
      "metadata": {
        "id": "6E48CxiEpP8j"
      },
      "source": [
        ""
      ],
      "execution_count": 5,
      "outputs": []
    }
  ]
}