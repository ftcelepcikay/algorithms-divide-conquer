{
  "nbformat": 4,
  "nbformat_minor": 0,
  "metadata": {
    "colab": {
      "name": "L2_W2_dijkstra.ipynb",
      "provenance": [],
      "authorship_tag": "ABX9TyO0f/kY+OqoA56GdBW/RDdM",
      "include_colab_link": true
    },
    "kernelspec": {
      "name": "python3",
      "display_name": "Python 3"
    }
  },
  "cells": [
    {
      "cell_type": "markdown",
      "metadata": {
        "id": "view-in-github",
        "colab_type": "text"
      },
      "source": [
        "<a href=\"https://colab.research.google.com/github/ftcelepcikay/algorithms-divide-conquer/blob/master/L2_W2_dijkstra.ipynb\" target=\"_parent\"><img src=\"https://colab.research.google.com/assets/colab-badge.svg\" alt=\"Open In Colab\"/></a>"
      ]
    },
    {
      "cell_type": "code",
      "metadata": {
        "id": "zLGgYBDbO4QD",
        "colab_type": "code",
        "colab": {}
      },
      "source": [
        "class node:\n",
        "  def __init__(self,ind):\n",
        "    self.ind = ind\n",
        "    self.neighbor = []\n",
        "    self.dist = 1000000\n",
        "    self.explored = False\n",
        "\n",
        "  def add_node(self, neighbor_ds): # neighbor_ds = [ neighbor_node, l_vw]\n",
        "    self.neighbor.append(neighbor_ds)\n",
        "\n",
        "  def str_node(self):\n",
        "    return (\"node(\" + str(self.ind) +\"): [\"   +   ', '.join(str(node.ind) for [node,l_vw] in self.neighbor) +\n",
        "           \"]. A[\" + str(self.ind) + \"]: \" +  str(self.dist))\n"
      ],
      "execution_count": 1,
      "outputs": []
    },
    {
      "cell_type": "code",
      "metadata": {
        "id": "qxg-0qDVsQ1c",
        "colab_type": "code",
        "colab": {}
      },
      "source": [
        "class Graph:\n",
        "  def __init__(self, nodes):\n",
        "    self.nodes = nodes\n",
        "    self.X_nodes = []\n",
        "    self.V_X_nodes = list(range(1,len(nodes)))\n",
        "\n",
        "  def print_graph(self):\n",
        "    for node in self.nodes:\n",
        "      if (node.ind>0):\n",
        "        print(node.str_node())\n",
        "\n",
        "  def get_distances(self):\n",
        "    print_ind = [7,37,59,82,99,115,133,165,188,197]\n",
        "    print(','.join(str(self.nodes[node_ind].dist) for node_ind in print_ind))\n",
        "\n",
        "  def dijkstra(self):\n",
        "    self.nodes[1].explored = True\n",
        "    self.nodes[1].dist = 0\n",
        "    self.X_nodes.append(1)\n",
        "    self.V_X_nodes.remove(1)\n",
        "\n",
        "    while (len(self.V_X_nodes)>0):\n",
        "      min_sw = 1e8\n",
        "      for v in self.X_nodes:\n",
        "        for node_w,l_vw in self.nodes[v].neighbor:\n",
        "          w = node_w.ind\n",
        "          if (w in self.V_X_nodes):\n",
        "            l_sw = self.nodes[v].dist + l_vw\n",
        "            if (l_sw < min_sw):\n",
        "              #print(v,w)\n",
        "              min_sw = l_sw\n",
        "              w_star = w\n",
        "              v_star = v\n",
        "      #print(\"(v_star,w_star):\",v_star,w_star)\n",
        "      self.X_nodes.append(w_star)\n",
        "      self.V_X_nodes.remove(w_star)  # use remove() if remove by value. use del or pop() to remove by index.\n",
        "      self.nodes[w_star].dist = min_sw\n",
        "      self.nodes[w_star].explored = True\n",
        "      #print(\"X: \",self.X_nodes)\n",
        "      #print(\"V-X: \",self.V_X_nodes)\n",
        "    \n",
        "    #self.print_graph()"
      ],
      "execution_count": 2,
      "outputs": []
    },
    {
      "cell_type": "code",
      "metadata": {
        "id": "YrV4cLal6mRy",
        "colab_type": "code",
        "colab": {}
      },
      "source": [
        "def readtest(test, num_of_nodes):\n",
        "    # Adjacency representations of the graph\n",
        "  nodes = []\n",
        "  for i in range(num_of_nodes+1):\n",
        "    nodes.append(node(i))    \n",
        "\n",
        "  f = open(test+\".txt\",'r')\n",
        "  for line in f:\n",
        "    line = line.split()\n",
        "    if(len(line)==0): continue\n",
        "    #line = [int(elem) for elem in line]\n",
        "    cnode = nodes[int(line[0])]\n",
        "    line.pop(0)\n",
        "    for elem in line:\n",
        "      elem = elem.split(',')\n",
        "      elem = [int(e) for e in elem]\n",
        "      node_ds = [nodes[elem[0]],elem[1]]\n",
        "      cnode.add_node(node_ds)\n",
        "    \n",
        "  G = Graph(nodes)\n",
        "  return G"
      ],
      "execution_count": 3,
      "outputs": []
    },
    {
      "cell_type": "code",
      "metadata": {
        "id": "zFvXa3MCq0ji",
        "colab_type": "code",
        "colab": {
          "base_uri": "https://localhost:8080/",
          "height": 187
        },
        "outputId": "ac3a6ff4-4fb9-40ac-98d7-1f667aa88969"
      },
      "source": [
        "# test1\n",
        "G = readtest(\"test1\",4)\n",
        "print(\"Graph:\")\n",
        "G.print_graph()\n",
        "G.dijkstra()\n",
        "print(\"Graph:\")\n",
        "G.print_graph()\n",
        "# answer: 0,1,3,6"
      ],
      "execution_count": 4,
      "outputs": [
        {
          "output_type": "stream",
          "text": [
            "Graph:\n",
            "node(1): [2, 3]. A[1]: 1000000\n",
            "node(2): [1, 3, 4]. A[2]: 1000000\n",
            "node(3): [1, 2, 4]. A[3]: 1000000\n",
            "node(4): [2, 3]. A[4]: 1000000\n",
            "Graph:\n",
            "node(1): [2, 3]. A[1]: 0\n",
            "node(2): [1, 3, 4]. A[2]: 1\n",
            "node(3): [1, 2, 4]. A[3]: 3\n",
            "node(4): [2, 3]. A[4]: 6\n"
          ],
          "name": "stdout"
        }
      ]
    },
    {
      "cell_type": "code",
      "metadata": {
        "id": "2Hzs7LRAWX1p",
        "colab_type": "code",
        "colab": {
          "base_uri": "https://localhost:8080/",
          "height": 187
        },
        "outputId": "da4c99cb-c8e7-4a80-908c-0a98b9030180"
      },
      "source": [
        "# test1par\n",
        "G = readtest(\"test1par\",4)\n",
        "print(\"Graph:\")\n",
        "G.print_graph()\n",
        "G.dijkstra()\n",
        "print(\"Graph:\")\n",
        "G.print_graph()\n",
        "# answer: 0,1,3,6"
      ],
      "execution_count": 5,
      "outputs": [
        {
          "output_type": "stream",
          "text": [
            "Graph:\n",
            "node(1): [2, 3]. A[1]: 1000000\n",
            "node(2): [1, 3, 3, 4]. A[2]: 1000000\n",
            "node(3): [1, 2, 2, 4, 4]. A[3]: 1000000\n",
            "node(4): [2, 3, 3]. A[4]: 1000000\n",
            "Graph:\n",
            "node(1): [2, 3]. A[1]: 0\n",
            "node(2): [1, 3, 3, 4]. A[2]: 1\n",
            "node(3): [1, 2, 2, 4, 4]. A[3]: 3\n",
            "node(4): [2, 3, 3]. A[4]: 6\n"
          ],
          "name": "stdout"
        }
      ]
    },
    {
      "cell_type": "code",
      "metadata": {
        "id": "SArS5gLzz_mb",
        "colab_type": "code",
        "colab": {
          "base_uri": "https://localhost:8080/",
          "height": 323
        },
        "outputId": "2dfd5299-aaa7-49b6-d167-b50266ce6724"
      },
      "source": [
        "# test2\n",
        "G = readtest(\"test2\",8)\n",
        "print(\"Graph:\")\n",
        "G.print_graph()\n",
        "G.dijkstra()\n",
        "print(\"Graph:\")\n",
        "G.print_graph()\n",
        "# answer: 0,1,2,3,4,4,3,2"
      ],
      "execution_count": 6,
      "outputs": [
        {
          "output_type": "stream",
          "text": [
            "Graph:\n",
            "node(1): [2, 8]. A[1]: 1000000\n",
            "node(2): [1, 3]. A[2]: 1000000\n",
            "node(3): [2, 4]. A[3]: 1000000\n",
            "node(4): [3, 5]. A[4]: 1000000\n",
            "node(5): [4, 6]. A[5]: 1000000\n",
            "node(6): [5, 7]. A[6]: 1000000\n",
            "node(7): [6, 8]. A[7]: 1000000\n",
            "node(8): [7, 1]. A[8]: 1000000\n",
            "Graph:\n",
            "node(1): [2, 8]. A[1]: 0\n",
            "node(2): [1, 3]. A[2]: 1\n",
            "node(3): [2, 4]. A[3]: 2\n",
            "node(4): [3, 5]. A[4]: 3\n",
            "node(5): [4, 6]. A[5]: 4\n",
            "node(6): [5, 7]. A[6]: 4\n",
            "node(7): [6, 8]. A[7]: 3\n",
            "node(8): [7, 1]. A[8]: 2\n"
          ],
          "name": "stdout"
        }
      ]
    },
    {
      "cell_type": "code",
      "metadata": {
        "id": "Gp70_O4gX3Dl",
        "colab_type": "code",
        "colab": {
          "base_uri": "https://localhost:8080/",
          "height": 425
        },
        "outputId": "39c5b896-9565-46c9-9431-ad6d00de81fd"
      },
      "source": [
        "# test3\n",
        "G = readtest(\"test3\",11)\n",
        "print(\"Graph:\")\n",
        "G.print_graph()\n",
        "G.dijkstra()\n",
        "print(\"Graph:\")\n",
        "G.print_graph()\n",
        "# answer: 0,1,2,3,4,4,3,2"
      ],
      "execution_count": 7,
      "outputs": [
        {
          "output_type": "stream",
          "text": [
            "Graph:\n",
            "node(1): [2, 5, 8]. A[1]: 1000000\n",
            "node(2): [5, 6, 1, 3]. A[2]: 1000000\n",
            "node(3): [2, 6, 7, 4]. A[3]: 1000000\n",
            "node(4): [3, 7, 11]. A[4]: 1000000\n",
            "node(5): [1, 2, 8, 6]. A[5]: 1000000\n",
            "node(6): [5, 2, 3, 7, 10, 9, 8]. A[6]: 1000000\n",
            "node(7): [6, 3, 4, 11, 10]. A[7]: 1000000\n",
            "node(8): [1, 5, 6, 9]. A[8]: 1000000\n",
            "node(9): [8, 6, 10]. A[9]: 1000000\n",
            "node(10): [9, 6, 7, 11]. A[10]: 1000000\n",
            "node(11): [10, 7, 4]. A[11]: 1000000\n",
            "Graph:\n",
            "node(1): [2, 5, 8]. A[1]: 0\n",
            "node(2): [5, 6, 1, 3]. A[2]: 3\n",
            "node(3): [2, 6, 7, 4]. A[3]: 5\n",
            "node(4): [3, 7, 11]. A[4]: 8\n",
            "node(5): [1, 2, 8, 6]. A[5]: 5\n",
            "node(6): [5, 2, 3, 7, 10, 9, 8]. A[6]: 7\n",
            "node(7): [6, 3, 4, 11, 10]. A[7]: 11\n",
            "node(8): [1, 5, 6, 9]. A[8]: 4\n",
            "node(9): [8, 6, 10]. A[9]: 6\n",
            "node(10): [9, 6, 7, 11]. A[10]: 10\n",
            "node(11): [10, 7, 4]. A[11]: 10\n"
          ],
          "name": "stdout"
        }
      ]
    },
    {
      "cell_type": "code",
      "metadata": {
        "id": "HayiycGFAAkr",
        "colab_type": "code",
        "colab": {
          "base_uri": "https://localhost:8080/",
          "height": 34
        },
        "outputId": "2feeef30-dc16-43ee-e9a5-a19385123fe9"
      },
      "source": [
        "# test4\n",
        "G = readtest(\"test4\",200)\n",
        "# print(\"Graph:\")\n",
        "# G.print_graph()\n",
        "G.dijkstra()\n",
        "G.get_distances()\n",
        "# print(\"Graph:\")\n",
        "# G.print_graph()\n",
        "# answer:588,405,675,521,909,328,418,957,830,839"
      ],
      "execution_count": 8,
      "outputs": [
        {
          "output_type": "stream",
          "text": [
            "588,405,675,521,909,328,418,957,830,839\n"
          ],
          "name": "stdout"
        }
      ]
    },
    {
      "cell_type": "code",
      "metadata": {
        "id": "m_Qm3w-NCry8",
        "colab_type": "code",
        "colab": {
          "base_uri": "https://localhost:8080/",
          "height": 34
        },
        "outputId": "a9f5703b-b26f-4dff-cb70-80c54bbb6d16"
      },
      "source": [
        "# testFinal\n",
        "G = readtest(\"dijkstraData\",200)\n",
        "# print(\"Graph:\")\n",
        "# G.print_graph()\n",
        "G.dijkstra()\n",
        "G.get_distances()\n",
        "# print(\"Graph:\")\n",
        "# G.print_graph()\n",
        "# answer: 2599,2610,2947,2052,2367,2399,2029,2442,2505,3068"
      ],
      "execution_count": 9,
      "outputs": [
        {
          "output_type": "stream",
          "text": [
            "2599,2610,2947,2052,2367,2399,2029,2442,2505,3068\n"
          ],
          "name": "stdout"
        }
      ]
    },
    {
      "cell_type": "code",
      "metadata": {
        "id": "yAl-41asDlYl",
        "colab_type": "code",
        "colab": {}
      },
      "source": [
        ""
      ],
      "execution_count": 9,
      "outputs": []
    }
  ]
}