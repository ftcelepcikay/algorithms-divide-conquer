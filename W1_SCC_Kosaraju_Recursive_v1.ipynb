{
  "nbformat": 4,
  "nbformat_minor": 0,
  "metadata": {
    "colab": {
      "name": "W1_SCC_Kosaraju_Recursive_v1.ipynb",
      "provenance": [],
      "collapsed_sections": [],
      "authorship_tag": "ABX9TyOmuYUVIhvmjs7j2xwKvb+x",
      "include_colab_link": true
    },
    "kernelspec": {
      "name": "python3",
      "display_name": "Python 3"
    }
  },
  "cells": [
    {
      "cell_type": "markdown",
      "metadata": {
        "id": "view-in-github",
        "colab_type": "text"
      },
      "source": [
        "<a href=\"https://colab.research.google.com/github/ftcelepcikay/algorithms-divide-conquer/blob/master/W1_SCC_Kosaraju_Recursive_v1.ipynb\" target=\"_parent\"><img src=\"https://colab.research.google.com/assets/colab-badge.svg\" alt=\"Open In Colab\"/></a>"
      ]
    },
    {
      "cell_type": "code",
      "metadata": {
        "id": "mIr2G5HQNACy",
        "colab_type": "code",
        "colab": {}
      },
      "source": [
        "class node:\n",
        "  def __init__(self, ind):\n",
        "    self.ind = ind\n",
        "    self.head_list = []\n",
        "    self.explored = False\n",
        "    self.leader = self\n",
        "    self.finish_time = 0\n",
        "\n",
        "  def add_node(self, head_node):\n",
        "    self.head_list.append(head_node)\n",
        "\n",
        "  def str_node(self):\n",
        "    return (\"node(\" + str(self.ind) +\"): [\"   +   ', '.join(str(node.ind) for node in self.head_list) +\n",
        "           \"]. f(\" + str(self.ind) +\")=\" + str(self.finish_time) + \". lead(\" + str(self.ind) +\")=\" + str(self.leader.ind)) "
      ],
      "execution_count": 1,
      "outputs": []
    },
    {
      "cell_type": "code",
      "metadata": {
        "id": "U3t42gtpNCPm",
        "colab_type": "code",
        "colab": {}
      },
      "source": [
        "class Graph:\n",
        "  loop_list = []\n",
        "  #global s = self.nodes[0]\n",
        "  def __init__(self, nodes):\n",
        "    self.nodes = nodes\n",
        "    self.t = 0 \n",
        "    self.s = self.nodes[0]\n",
        "    self.SCC = [0]*len(nodes)\n",
        "    Graph.loop_list = list(range(len(nodes)))   \n",
        "  \n",
        "  def print_graph(self):\n",
        "    for node in self.nodes:\n",
        "      if(node.ind)==0: continue\n",
        "      print(node.str_node())\n",
        "\n",
        "  def update_loop_list(self):\n",
        "    #print(\"loop_list:\", Graph.loop_list)\n",
        "    for node in self.nodes:\n",
        "      if(node.ind)==0: continue\n",
        "      Graph.loop_list[node.finish_time] = node.ind\n",
        "    #print(\"loop_list:\", Graph.loop_list)\n",
        "\n",
        "  def get_SCC(self):\n",
        "    #print(\"loop_list:\", Graph.loop_list)\n",
        "    for node in self.nodes:\n",
        "      if(node.ind)==0: continue\n",
        "      self.SCC[node.leader.ind] += 1\n",
        "    self.SCC.sort(reverse=True)\n",
        "    #print(\"SCC:\", self.SCC[:5])\n",
        "    print(\"answer:\", ','.join(str(elem) for elem in self.SCC[:5]))\n",
        "\n",
        "  def DFS(self, i):\n",
        "    i.explored = True\n",
        "    i.leader = self.s\n",
        "    for j in i.head_list:\n",
        "      if(j.explored == False):\n",
        "        self.DFS(j) #  DFS(self,j) is wrong\n",
        "    self.t = self.t+1\n",
        "    i.finish_time = self.t    \n",
        "\n",
        "  def DFS_loop(self): \n",
        "    #print(Graph.loop_list)\n",
        "    for ind in reversed(Graph.loop_list):\n",
        "      if(ind)==0: continue\n",
        "      #print(\"ind: \",ind, \"list\", Graph.loop_list)\n",
        "      if(self.nodes[ind].explored == False):\n",
        "        self.s = self.nodes[ind]\n",
        "        self.DFS(self.nodes[ind])"
      ],
      "execution_count": 2,
      "outputs": []
    },
    {
      "cell_type": "code",
      "metadata": {
        "id": "3MTWaQHCv44o",
        "colab_type": "code",
        "colab": {}
      },
      "source": [
        "def readtest(test, num_of_nodes):\n",
        "    # Adjacency representations of the graph and reverse graph\n",
        "  nodes = []\n",
        "  nodes_rev = []\n",
        "  for i in range(num_of_nodes+1):\n",
        "    nodes.append(node(i))\n",
        "    nodes[i].finish_time = i\n",
        "    nodes_rev.append(node(i))\n",
        "    nodes_rev[i].finish_time = i\n",
        "\n",
        "  f = open(test+\".txt\",'r')\n",
        "  for line in f:\n",
        "    line = line.split()\n",
        "    if(len(line)==0): continue\n",
        "    line = [int(elem) for elem in line]\n",
        "    \n",
        "    nodeTail = nodes[line[0]]\n",
        "    nodeHead = nodes[line[1]]\n",
        "    nodeTail.add_node(nodeHead)\n",
        "\n",
        "    nodeTail_rev = nodes_rev[line[1]]\n",
        "    nodeHead_rev = nodes_rev[line[0]]\n",
        "    nodeTail_rev.add_node(nodeHead_rev)\n",
        "    \n",
        "  G = Graph(nodes)\n",
        "  G_rev = Graph(nodes_rev)\n",
        "  return G, G_rev  "
      ],
      "execution_count": 3,
      "outputs": []
    },
    {
      "cell_type": "code",
      "metadata": {
        "id": "3UzvC1p6GsJ7",
        "colab_type": "code",
        "colab": {
          "base_uri": "https://localhost:8080/",
          "height": 34
        },
        "outputId": "98f79425-a14c-40db-cb51-d646539e51f5"
      },
      "source": [
        "# test1\n",
        "G, G_rev = readtest(\"test1\",4)\n",
        "G_rev.DFS_loop()\n",
        "G_rev.update_loop_list()\n",
        "G.DFS_loop()\n",
        "G.get_SCC()\n",
        "# answer: 1,1,1,1,0"
      ],
      "execution_count": 4,
      "outputs": [
        {
          "output_type": "stream",
          "text": [
            "answer: 1,1,1,1,0\n"
          ],
          "name": "stdout"
        }
      ]
    },
    {
      "cell_type": "code",
      "metadata": {
        "id": "MDoFXJAsHE5B",
        "colab_type": "code",
        "colab": {
          "base_uri": "https://localhost:8080/",
          "height": 34
        },
        "outputId": "79947d82-d2e0-452f-9c00-aeedc1207594"
      },
      "source": [
        "# test2\n",
        "G, G_rev = readtest(\"test2\",9)\n",
        "# print(\"Graph:\")\n",
        "# G.print_graph()\n",
        "# print(\"\\nGraph_rev:\")\n",
        "# G_rev.print_graph()\n",
        "# print(\"\\nGraph_rev2:\")\n",
        "G_rev.DFS_loop()\n",
        "G_rev.update_loop_list()\n",
        "# G_rev.print_graph()\n",
        "# print(\"\\nGraph_2:\")\n",
        "G.DFS_loop()\n",
        "# G.print_graph()\n",
        "G.get_SCC()\n",
        "#answer: 3,3,3,0,0"
      ],
      "execution_count": 5,
      "outputs": [
        {
          "output_type": "stream",
          "text": [
            "answer: 3,3,3,0,0\n"
          ],
          "name": "stdout"
        }
      ]
    },
    {
      "cell_type": "code",
      "metadata": {
        "id": "xW5jsRmuCjoU",
        "colab_type": "code",
        "colab": {
          "base_uri": "https://localhost:8080/",
          "height": 34
        },
        "outputId": "58c5c497-f422-4e29-e8d8-72a642b4d279"
      },
      "source": [
        "# test3\n",
        "G, G_rev = readtest(\"test3\",8)\n",
        "G_rev.DFS_loop()\n",
        "G_rev.update_loop_list()\n",
        "G.DFS_loop()\n",
        "G.get_SCC()\n",
        "#answer: 3,3,2,0,0"
      ],
      "execution_count": 6,
      "outputs": [
        {
          "output_type": "stream",
          "text": [
            "answer: 3,3,2,0,0\n"
          ],
          "name": "stdout"
        }
      ]
    },
    {
      "cell_type": "code",
      "metadata": {
        "id": "WRbn6W2HOcql",
        "colab_type": "code",
        "colab": {
          "base_uri": "https://localhost:8080/",
          "height": 34
        },
        "outputId": "40c6ef4e-8d92-4fba-fef8-c1ae330e0e03"
      },
      "source": [
        "# test4\n",
        "G, G_rev = readtest(\"test4\",8)\n",
        "G_rev.DFS_loop()\n",
        "G_rev.update_loop_list()\n",
        "G.DFS_loop()\n",
        "G.get_SCC()\n",
        "#answer: 3,3,1,1,0"
      ],
      "execution_count": 7,
      "outputs": [
        {
          "output_type": "stream",
          "text": [
            "answer: 3,3,1,1,0\n"
          ],
          "name": "stdout"
        }
      ]
    },
    {
      "cell_type": "code",
      "metadata": {
        "id": "b31-2C6jPf-a",
        "colab_type": "code",
        "colab": {
          "base_uri": "https://localhost:8080/",
          "height": 34
        },
        "outputId": "5f27c537-b963-4972-a94f-3ffe62b45805"
      },
      "source": [
        "# test5\n",
        "G, G_rev = readtest(\"test5\",8)\n",
        "G_rev.DFS_loop()\n",
        "G_rev.update_loop_list()\n",
        "G.DFS_loop()\n",
        "G.get_SCC()\n",
        "#Answer: 7,1,0,0,0"
      ],
      "execution_count": 8,
      "outputs": [
        {
          "output_type": "stream",
          "text": [
            "answer: 7,1,0,0,0\n"
          ],
          "name": "stdout"
        }
      ]
    },
    {
      "cell_type": "code",
      "metadata": {
        "id": "k02vGL9eP3TZ",
        "colab_type": "code",
        "colab": {
          "base_uri": "https://localhost:8080/",
          "height": 34
        },
        "outputId": "f046ee0f-4a7d-4f20-e17c-84a3751f4316"
      },
      "source": [
        "# test6\n",
        "G, G_rev = readtest(\"test6\",12)\n",
        "G_rev.DFS_loop()\n",
        "G_rev.update_loop_list()\n",
        "G.DFS_loop()\n",
        "G.get_SCC()\n",
        "#Answer:6,3,2,1,0"
      ],
      "execution_count": 9,
      "outputs": [
        {
          "output_type": "stream",
          "text": [
            "answer: 6,3,2,1,0\n"
          ],
          "name": "stdout"
        }
      ]
    },
    {
      "cell_type": "code",
      "metadata": {
        "id": "t9noSwflQMz4",
        "colab_type": "code",
        "colab": {
          "base_uri": "https://localhost:8080/",
          "height": 34
        },
        "outputId": "20cca803-3edd-4925-d731-29d1686a0937"
      },
      "source": [
        "# test7\n",
        "G, G_rev = readtest(\"test7\",128)\n",
        "G_rev.DFS_loop()\n",
        "G_rev.update_loop_list()\n",
        "G.DFS_loop()\n",
        "G.get_SCC()\n",
        "#Answer:78,23,20,3,2"
      ],
      "execution_count": 10,
      "outputs": [
        {
          "output_type": "stream",
          "text": [
            "answer: 78,23,20,3,2\n"
          ],
          "name": "stdout"
        }
      ]
    },
    {
      "cell_type": "code",
      "metadata": {
        "id": "oOJdlS6efv9d",
        "colab_type": "code",
        "colab": {
          "base_uri": "https://localhost:8080/",
          "height": 34
        },
        "outputId": "c66d5d1d-c556-4771-a4ec-f798ac0a13a3"
      },
      "source": [
        "# test8\n",
        "import sys\n",
        "sys.setrecursionlimit(3200)  # increase recursion limit\n",
        "G, G_rev = readtest(\"test8\",3200)\n",
        "G_rev.DFS_loop()\n",
        "G_rev.update_loop_list()\n",
        "G.DFS_loop()\n",
        "G.get_SCC()\n",
        "#Answer:3187,4,4,3,1"
      ],
      "execution_count": 11,
      "outputs": [
        {
          "output_type": "stream",
          "text": [
            "answer: 3187,4,4,3,1\n"
          ],
          "name": "stdout"
        }
      ]
    },
    {
      "cell_type": "code",
      "metadata": {
        "id": "5I-43KDGdzfM",
        "colab_type": "code",
        "colab": {}
      },
      "source": [
        "# test Final\n",
        "G, G_rev = readtest(\"SCC\",875714)\n",
        "sys.setrecursionlimit(875714)\n",
        "G_rev.DFS_loop()\n",
        "G_rev.update_loop_list()\n",
        "G.DFS_loop()\n",
        "G.get_SCC()\n",
        "#Answer:"
      ],
      "execution_count": null,
      "outputs": []
    },
    {
      "cell_type": "code",
      "metadata": {
        "id": "YBUpmF8yeW18",
        "colab_type": "code",
        "colab": {}
      },
      "source": [
        ""
      ],
      "execution_count": null,
      "outputs": []
    }
  ]
}