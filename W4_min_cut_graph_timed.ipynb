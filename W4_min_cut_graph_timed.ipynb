{
  "nbformat": 4,
  "nbformat_minor": 0,
  "metadata": {
    "colab": {
      "name": "W4_min_cut_graph_timed.ipynb",
      "provenance": [],
      "collapsed_sections": [],
      "authorship_tag": "ABX9TyNy4pP3FqaRMuyWkyQZ5S4k",
      "include_colab_link": true
    },
    "kernelspec": {
      "name": "python3",
      "display_name": "Python 3"
    }
  },
  "cells": [
    {
      "cell_type": "markdown",
      "metadata": {
        "id": "view-in-github",
        "colab_type": "text"
      },
      "source": [
        "<a href=\"https://colab.research.google.com/github/ftcelepcikay/algorithms-divide-conquer/blob/master/W4_min_cut_graph_timed.ipynb\" target=\"_parent\"><img src=\"https://colab.research.google.com/assets/colab-badge.svg\" alt=\"Open In Colab\"/></a>"
      ]
    },
    {
      "cell_type": "code",
      "metadata": {
        "id": "x4tjHqYKVCeK",
        "colab_type": "code",
        "colab": {}
      },
      "source": [
        "import random\n",
        "import math\n",
        "from joblib import Parallel, delayed\n",
        "import multiprocessing\n",
        "from timeit import default_timer as timer"
      ],
      "execution_count": 0,
      "outputs": []
    },
    {
      "cell_type": "code",
      "metadata": {
        "id": "rWhdroIYH3U-",
        "colab_type": "code",
        "colab": {}
      },
      "source": [
        "def readtest(s):\n",
        "  f = open(s+\".txt\",'r')\n",
        "  A = []\n",
        "  for line in f:\n",
        "    #print(line)\n",
        "    line = line.split() # create list of elemenst separated by ''\n",
        "    if (len(line)==0):\n",
        "      continue\n",
        "    line = [int(i) for i in line]  # convert str list to a int list\n",
        "    A.append((line[0],line[1:]))\n",
        "  #print(A) \n",
        "  return A "
      ],
      "execution_count": 0,
      "outputs": []
    },
    {
      "cell_type": "code",
      "metadata": {
        "id": "Fd1GfACZ9wvb",
        "colab_type": "code",
        "colab": {}
      },
      "source": [
        "def contract(A,m,n):\n",
        "  B=[]\n",
        "  for i in range(len(A)):\n",
        "    if(A[i][0] == m):\n",
        "      listmn =[]\n",
        "      for li in A[i][1]:\n",
        "        if(li!=n):\n",
        "          listmn.append(li)\n",
        "      \n",
        "    elif((A[i][0] == n)):\n",
        "      for li in A[i][1]:\n",
        "        if(li!=m):\n",
        "          listmn.append(li)\n",
        "      row =(n,listmn)\n",
        "      B.append(row)\n",
        "\n",
        "    else:\n",
        "      #print(A[i][1])\n",
        "      listi=[]\n",
        "      for li in A[i][1]:\n",
        "        #print(li)        \n",
        "        if(li==m):\n",
        "          listi.append(n)\n",
        "        else:\n",
        "          listi.append(li)\n",
        "      row =(A[i][0],listi)\n",
        "      B.append(row)\n",
        "  return B\n",
        "\n"
      ],
      "execution_count": 0,
      "outputs": []
    },
    {
      "cell_type": "code",
      "metadata": {
        "id": "t10H11hcMmZC",
        "colab_type": "code",
        "colab": {}
      },
      "source": [
        "#B = contract(A,0,1)\n",
        "#print(B)"
      ],
      "execution_count": 0,
      "outputs": []
    },
    {
      "cell_type": "code",
      "metadata": {
        "id": "Kt4BB6p-Ms7N",
        "colab_type": "code",
        "colab": {}
      },
      "source": [
        "def min_cut_iter(A):\n",
        "  vertices = []\n",
        "  for i in range(len(A)):\n",
        "    vertices.append(A[i][0])\n",
        "  #print(vertices)\n",
        "  while (len(vertices)>2):\n",
        "    ind = random.randrange(len(vertices))\n",
        "    m = vertices[ind]\n",
        "    #print(m)\n",
        "    #print(A[ind][1])\n",
        "    n = A[ind][1][random.randrange(len(A[ind][1]))]\n",
        "    #print(n)\n",
        "    #print(m,n)\n",
        "    if(m>n):\n",
        "      m,n = n,m\n",
        "    #print(m,n)\n",
        "    A = contract(A,m,n)\n",
        "    #print(A)\n",
        "    vertices.remove(m)\n",
        "  return len(A[0][1])"
      ],
      "execution_count": 0,
      "outputs": []
    },
    {
      "cell_type": "code",
      "metadata": {
        "id": "f8zr-xR9S588",
        "colab_type": "code",
        "colab": {}
      },
      "source": [
        "#mc = min_cut_iter(A)\n",
        "#print(mc)"
      ],
      "execution_count": 0,
      "outputs": []
    },
    {
      "cell_type": "code",
      "metadata": {
        "id": "aJqUHYxoXnzm",
        "colab_type": "code",
        "colab": {}
      },
      "source": [
        "def min_cut(A):\n",
        "  x = len(A)\n",
        "  #n = int(x*x*math.log(x)) \n",
        "  n = int(x*x) \n",
        "  min_mc = x\n",
        "  start = timer()\n",
        "  for i in range(n):       \n",
        "    mc = min_cut_iter(A)\n",
        "    min_mc = min(min_mc,mc)\n",
        "    if(i%100==0 and i>0):   \n",
        "      end = timer()\n",
        "      print(\"iteration no: \", i, \"mc:\", mc, \"min_mc:\", min_mc, \"time: \", end - start)\n",
        "      start = end \n",
        "  #print( min_mc)\n",
        "  return min_mc"
      ],
      "execution_count": 0,
      "outputs": []
    },
    {
      "cell_type": "code",
      "metadata": {
        "id": "B6SwK3Kc9ZIR",
        "colab_type": "code",
        "outputId": "5a286a58-1453-41d1-d4e4-fce2187bdf9d",
        "colab": {
          "base_uri": "https://localhost:8080/",
          "height": 34
        }
      },
      "source": [
        "A = [(0,[1,3]),(1,[0,2,3]),(2,[1,3]),(3,[0,1,2])]\n",
        "min_cut(A)\n",
        "# result 2"
      ],
      "execution_count": 8,
      "outputs": [
        {
          "output_type": "execute_result",
          "data": {
            "text/plain": [
              "2"
            ]
          },
          "metadata": {
            "tags": []
          },
          "execution_count": 8
        }
      ]
    },
    {
      "cell_type": "code",
      "metadata": {
        "id": "OWA6R-6yd1Qe",
        "colab_type": "code",
        "outputId": "32105e78-6106-471e-b536-5494067a9441",
        "colab": {
          "base_uri": "https://localhost:8080/",
          "height": 34
        }
      },
      "source": [
        "#TEST CASE - 1\n",
        "A = readtest(\"test1\")\n",
        "print(min_cut(A))\n",
        "# result 2"
      ],
      "execution_count": 9,
      "outputs": [
        {
          "output_type": "stream",
          "text": [
            "2\n"
          ],
          "name": "stdout"
        }
      ]
    },
    {
      "cell_type": "code",
      "metadata": {
        "id": "VAcJGhiRfisG",
        "colab_type": "code",
        "outputId": "53fbb7cd-571d-45c0-979c-d1f33ba5ecf5",
        "colab": {
          "base_uri": "https://localhost:8080/",
          "height": 34
        }
      },
      "source": [
        "#TEST CASE - 2\n",
        "A = readtest(\"test2\")\n",
        "print(min_cut(A))\n",
        "# result 1"
      ],
      "execution_count": 10,
      "outputs": [
        {
          "output_type": "stream",
          "text": [
            "1\n"
          ],
          "name": "stdout"
        }
      ]
    },
    {
      "cell_type": "code",
      "metadata": {
        "id": "87_7T6ypK5K8",
        "colab_type": "code",
        "outputId": "5e8ff5a1-76ee-4104-ac55-e6603140460a",
        "colab": {
          "base_uri": "https://localhost:8080/",
          "height": 289
        }
      },
      "source": [
        "#TEST CASE - 3\n",
        "A = readtest(\"test3\")\n",
        "print(min_cut(A))\n",
        "# result 3"
      ],
      "execution_count": 11,
      "outputs": [
        {
          "output_type": "stream",
          "text": [
            "iteration no:  100 mc: 11 min_mc: 3 time:  0.09302912199996172\n",
            "iteration no:  200 mc: 4 min_mc: 3 time:  0.08594737300006727\n",
            "iteration no:  300 mc: 13 min_mc: 3 time:  0.09601374199996826\n",
            "iteration no:  400 mc: 6 min_mc: 3 time:  0.09515150599997924\n",
            "iteration no:  500 mc: 5 min_mc: 3 time:  0.08732037799995851\n",
            "iteration no:  600 mc: 12 min_mc: 3 time:  0.09019268100007594\n",
            "iteration no:  700 mc: 5 min_mc: 3 time:  0.09544332999996641\n",
            "iteration no:  800 mc: 6 min_mc: 3 time:  0.08669729799999004\n",
            "iteration no:  900 mc: 7 min_mc: 3 time:  0.08727892000001702\n",
            "iteration no:  1000 mc: 3 min_mc: 3 time:  0.08831894299999021\n",
            "iteration no:  1100 mc: 11 min_mc: 3 time:  0.08613234300003114\n",
            "iteration no:  1200 mc: 4 min_mc: 3 time:  0.08904756399999769\n",
            "iteration no:  1300 mc: 5 min_mc: 3 time:  0.09013849999996637\n",
            "iteration no:  1400 mc: 7 min_mc: 3 time:  0.08685991300001206\n",
            "iteration no:  1500 mc: 12 min_mc: 3 time:  0.10591500500004258\n",
            "3\n"
          ],
          "name": "stdout"
        }
      ]
    },
    {
      "cell_type": "code",
      "metadata": {
        "id": "j3hNMbNFgg9V",
        "colab_type": "code",
        "outputId": "a8c74f82-491b-484f-a1ff-b827e4226564",
        "colab": {
          "base_uri": "https://localhost:8080/",
          "height": 34
        }
      },
      "source": [
        "#TEST CASE - 4\n",
        "A = readtest(\"test4\")\n",
        "print(min_cut(A))\n",
        "# result 2"
      ],
      "execution_count": 12,
      "outputs": [
        {
          "output_type": "stream",
          "text": [
            "2\n"
          ],
          "name": "stdout"
        }
      ]
    },
    {
      "cell_type": "code",
      "metadata": {
        "id": "uoeqsNNMLU5o",
        "colab_type": "code",
        "outputId": "dbc0073c-8256-42fc-9e1b-aa907beb66e4",
        "colab": {
          "base_uri": "https://localhost:8080/",
          "height": 102
        }
      },
      "source": [
        "#TEST CASE - ASSIGNMENT (kargerMinCut)\n",
        "A = readtest(\"kargerMinCut\")\n",
        "print(min_cut(A))\n",
        "# result 17"
      ],
      "execution_count": 0,
      "outputs": [
        {
          "output_type": "stream",
          "text": [
            "iteration no:  100 mc: 20 min_mc: 17 time:  8.325731589000043\n",
            "iteration no:  200 mc: 31 min_mc: 17 time:  8.27502033099995\n",
            "iteration no:  300 mc: 29 min_mc: 17 time:  8.224696280999979\n",
            "iteration no:  400 mc: 43 min_mc: 17 time:  8.230863542999941\n",
            "iteration no:  500 mc: 88 min_mc: 17 time:  8.201819096999998\n"
          ],
          "name": "stdout"
        }
      ]
    },
    {
      "cell_type": "code",
      "metadata": {
        "id": "FtmlO7xqL4_Y",
        "colab_type": "code",
        "colab": {}
      },
      "source": [
        ""
      ],
      "execution_count": 0,
      "outputs": []
    }
  ]
}