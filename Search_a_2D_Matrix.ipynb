{
  "nbformat": 4,
  "nbformat_minor": 0,
  "metadata": {
    "colab": {
      "name": "Search a 2D Matrix.ipynb",
      "provenance": [],
      "toc_visible": true,
      "authorship_tag": "ABX9TyMH0RlKJkn5H490I4CkXGct",
      "include_colab_link": true
    },
    "kernelspec": {
      "name": "python3",
      "display_name": "Python 3"
    },
    "language_info": {
      "name": "python"
    }
  },
  "cells": [
    {
      "cell_type": "markdown",
      "metadata": {
        "id": "view-in-github",
        "colab_type": "text"
      },
      "source": [
        "<a href=\"https://colab.research.google.com/github/ftcelepcikay/algorithms-divide-conquer/blob/master/Search_a_2D_Matrix.ipynb\" target=\"_parent\"><img src=\"https://colab.research.google.com/assets/colab-badge.svg\" alt=\"Open In Colab\"/></a>"
      ]
    },
    {
      "cell_type": "code",
      "execution_count": 1,
      "metadata": {
        "id": "4sLGj0GoXUqQ"
      },
      "outputs": [],
      "source": [
        "A = [[1,3,5,7],[10,11,16,20],[23,30,34,60]]"
      ]
    },
    {
      "cell_type": "code",
      "source": [
        "def searchMatrix(matrix, target: int) -> bool:\n",
        "        m = len(matrix)\n",
        "        n = len(matrix[0])\n",
        "        lPtr = 0\n",
        "        rPtr = m*n -1\n",
        "        \n",
        "        while lPtr <= rPtr:\n",
        "            mPtr = (lPtr + rPtr)//2\n",
        "            i = mPtr // n\n",
        "            j = mPtr % n\n",
        "            val = matrix[i][j]\n",
        "            print(\"lPtr: {}, rPtr: {}, mPtr: {}, i: {}, j: {}, val: {}\".format(lPtr, rPtr, mPtr, i, j, val))\n",
        "            if val == target:\n",
        "                return True\n",
        "            elif val > target:\n",
        "                rPtr = mPtr - 1\n",
        "            else:\n",
        "                lPtr = mPtr + 1\n",
        "        \n",
        "        return False"
      ],
      "metadata": {
        "id": "JFhA6fAEXWOt"
      },
      "execution_count": 9,
      "outputs": []
    },
    {
      "cell_type": "code",
      "source": [
        "print(searchMatrix(A, 3))"
      ],
      "metadata": {
        "colab": {
          "base_uri": "https://localhost:8080/"
        },
        "id": "nA4E_Rv_XdIC",
        "outputId": "e42fa117-25a2-4369-ac21-33920eabc7de"
      },
      "execution_count": 10,
      "outputs": [
        {
          "output_type": "stream",
          "name": "stdout",
          "text": [
            "lPtr: 0, rPtr: 11, mPtr: 5, i: 1, j: 1, val: 11\n",
            "lPtr: 0, rPtr: 4, mPtr: 2, i: 0, j: 2, val: 5\n",
            "lPtr: 0, rPtr: 1, mPtr: 0, i: 0, j: 0, val: 1\n",
            "lPtr: 1, rPtr: 1, mPtr: 1, i: 0, j: 1, val: 3\n",
            "True\n"
          ]
        }
      ]
    },
    {
      "cell_type": "code",
      "source": [
        ""
      ],
      "metadata": {
        "id": "oDUSvzCLcMtn"
      },
      "execution_count": null,
      "outputs": []
    }
  ]
}