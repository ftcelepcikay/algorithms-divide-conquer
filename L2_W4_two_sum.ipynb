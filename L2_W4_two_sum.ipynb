{
  "nbformat": 4,
  "nbformat_minor": 0,
  "metadata": {
    "colab": {
      "name": "L2_W4_two_sum.ipynb",
      "provenance": [],
      "authorship_tag": "ABX9TyNx/zIcFWSJUlJDu+I6IQXD",
      "include_colab_link": true
    },
    "kernelspec": {
      "name": "python3",
      "display_name": "Python 3"
    }
  },
  "cells": [
    {
      "cell_type": "markdown",
      "metadata": {
        "id": "view-in-github",
        "colab_type": "text"
      },
      "source": [
        "<a href=\"https://colab.research.google.com/github/ftcelepcikay/algorithms-divide-conquer/blob/master/L2_W4_two_sum.ipynb\" target=\"_parent\"><img src=\"https://colab.research.google.com/assets/colab-badge.svg\" alt=\"Open In Colab\"/></a>"
      ]
    },
    {
      "cell_type": "code",
      "metadata": {
        "id": "XD3JoyDzs9kF",
        "colab_type": "code",
        "colab": {}
      },
      "source": [
        "# compute the number of target values tt in the interval [-10000,10000] (inclusive)\n",
        "# such that there are distinct numbers x,y in the input file that satisfy x+y=t.\n",
        "# This method utlizes dictionary (hashtable) for each t iteration. Time complexity\n",
        "# is O(n*m) = O(20000*10^6)."
      ],
      "execution_count": 1,
      "outputs": []
    },
    {
      "cell_type": "code",
      "metadata": {
        "id": "ANPluWbct2Y1",
        "colab_type": "code",
        "colab": {}
      },
      "source": [
        "def two_sum(test, sum_list):  \n",
        "  total = 0\n",
        "  for T in sum_list:\n",
        "    #print(\"\\nfind any x+y=\", T)\n",
        "    A_list = open(test+'.txt','r')\n",
        "    hashmap = {}\n",
        "    for x in A_list:\n",
        "      x = x.split()\n",
        "      if (len(x)==0): continue\n",
        "      x = int(x[0])\n",
        "      if (x not in hashmap):\n",
        "        y = T - x\n",
        "        if(x == y): continue\n",
        "        hashmap[y] = x\n",
        "        #print(hashmap)\n",
        "      else:\n",
        "        y = hashmap[x]\n",
        "        #print(x,\" + \",y,\" = \", T)\n",
        "        total += 1\n",
        "        break\n",
        "  return total"
      ],
      "execution_count": 2,
      "outputs": []
    },
    {
      "cell_type": "code",
      "metadata": {
        "id": "yCq9XuyNstLO",
        "colab_type": "code",
        "colab": {
          "base_uri": "https://localhost:8080/",
          "height": 34
        },
        "outputId": "ca743a6d-467b-4022-8953-70ba7f20ed2f"
      },
      "source": [
        "# test1 = [6, 7, 11, 15, 3, 6, 5, 3], sum_list = [5,11] \n",
        "sum_list = list (range(5,12))\n",
        "print(two_sum(\"test1\", sum_list))\n",
        "# answer =  4\n"
      ],
      "execution_count": 3,
      "outputs": [
        {
          "output_type": "stream",
          "text": [
            "4\n"
          ],
          "name": "stdout"
        }
      ]
    },
    {
      "cell_type": "code",
      "metadata": {
        "id": "2Ntsk6rltgCb",
        "colab_type": "code",
        "colab": {
          "base_uri": "https://localhost:8080/",
          "height": 34
        },
        "outputId": "9d7deff0-301b-44d5-a4b1-f6d06075c3eb"
      },
      "source": [
        "# test2 = [-3,-1,1,2,9,11,7,6,2] , sum_list = [3,10]\n",
        "sum_list = list (range(3,11))\n",
        "print(two_sum(\"test2\", sum_list))\n",
        "# answer = 8"
      ],
      "execution_count": 4,
      "outputs": [
        {
          "output_type": "stream",
          "text": [
            "8\n"
          ],
          "name": "stdout"
        }
      ]
    },
    {
      "cell_type": "code",
      "metadata": {
        "id": "zdKURnPJxVP5",
        "colab_type": "code",
        "colab": {
          "base_uri": "https://localhost:8080/",
          "height": 34
        },
        "outputId": "779b2697-061a-4149-976d-d61723acf20d"
      },
      "source": [
        "# test3  , sum_list = [-10000,10000]\n",
        "sum_list = list (range(-10000,10001))\n",
        "print(two_sum(\"test3\", sum_list))\n",
        "# answer = 11"
      ],
      "execution_count": 5,
      "outputs": [
        {
          "output_type": "stream",
          "text": [
            "11\n"
          ],
          "name": "stdout"
        }
      ]
    },
    {
      "cell_type": "code",
      "metadata": {
        "id": "Lh5-BfyGmW-9",
        "colab_type": "code",
        "colab": {
          "base_uri": "https://localhost:8080/",
          "height": 34
        },
        "outputId": "d1fc59e6-6f6b-4f70-b486-80d06f7b025d"
      },
      "source": [
        "# test4  , sum_list = [-10000,10000]\n",
        "sum_list = list (range(-10000,10001))\n",
        "print(two_sum(\"test4\", sum_list))\n",
        "# answer = 35"
      ],
      "execution_count": 6,
      "outputs": [
        {
          "output_type": "stream",
          "text": [
            "35\n"
          ],
          "name": "stdout"
        }
      ]
    },
    {
      "cell_type": "code",
      "metadata": {
        "id": "eTo0GSREmsjB",
        "colab_type": "code",
        "colab": {
          "base_uri": "https://localhost:8080/",
          "height": 34
        },
        "outputId": "e1329855-3b17-46ee-d483-6a61bac8e9b0"
      },
      "source": [
        "# Finaltest  , sum_list = [-10000,10000]\n",
        "sum_list = list (range(-10000,10001))\n",
        "print(two_sum(\"prob2sum\", sum_list))\n",
        "# answer = 427"
      ],
      "execution_count": 9,
      "outputs": [
        {
          "output_type": "stream",
          "text": [
            "427\n"
          ],
          "name": "stdout"
        }
      ]
    },
    {
      "cell_type": "code",
      "metadata": {
        "id": "RcN9Dmlqn7PI",
        "colab_type": "code",
        "colab": {}
      },
      "source": [
        ""
      ],
      "execution_count": null,
      "outputs": []
    }
  ]
}