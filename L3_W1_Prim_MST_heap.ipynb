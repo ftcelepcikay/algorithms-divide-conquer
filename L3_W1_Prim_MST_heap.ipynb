{
  "nbformat": 4,
  "nbformat_minor": 0,
  "metadata": {
    "colab": {
      "name": "L3_W1_Prim_MST_heap.ipynb",
      "provenance": [],
      "authorship_tag": "ABX9TyPukr5Dnp8bkN1s5WsHhjOZ",
      "include_colab_link": true
    },
    "kernelspec": {
      "name": "python3",
      "display_name": "Python 3"
    }
  },
  "cells": [
    {
      "cell_type": "markdown",
      "metadata": {
        "id": "view-in-github",
        "colab_type": "text"
      },
      "source": [
        "<a href=\"https://colab.research.google.com/github/ftcelepcikay/algorithms-divide-conquer/blob/master/L3_W1_Prim_MST_heap.ipynb\" target=\"_parent\"><img src=\"https://colab.research.google.com/assets/colab-badge.svg\" alt=\"Open In Colab\"/></a>"
      ]
    },
    {
      "cell_type": "code",
      "metadata": {
        "id": "BKgnVK9N4m7k",
        "colab_type": "code",
        "colab": {}
      },
      "source": [
        "import heapq"
      ],
      "execution_count": 1,
      "outputs": []
    },
    {
      "cell_type": "code",
      "metadata": {
        "id": "zLGgYBDbO4QD",
        "colab_type": "code",
        "colab": {}
      },
      "source": [
        "class node:\n",
        "  def __init__(self,ind):\n",
        "    self.ind = ind\n",
        "    self.neighbor = []\n",
        "    self.cost = 1000000\n",
        "\n",
        "  def add_node(self, neighbor_ds): # neighbor_ds = [ neighbor_node, cost_vw]\n",
        "    self.neighbor.append(neighbor_ds)\n",
        "\n",
        "  def str_node(self):\n",
        "    return (\"node(\" + str(self.ind) +\"): [\"   +   ', '.join(str(node.ind) for [node,cost_vw] in self.neighbor) +\n",
        "           \"]. A[\" + str(self.ind) + \"]: \" +  str(self.cost))\n"
      ],
      "execution_count": 2,
      "outputs": []
    },
    {
      "cell_type": "code",
      "metadata": {
        "id": "qxg-0qDVsQ1c",
        "colab_type": "code",
        "colab": {}
      },
      "source": [
        "class Graph:\n",
        "  def __init__(self, nodes):\n",
        "    self.nodes = nodes\n",
        "    self.V_X_heap = []\n",
        "    self.V_X_list = []\n",
        "    self.MSTcost = 0\n",
        "\n",
        "  def print_graph(self):\n",
        "    for node in self.nodes:\n",
        "      if (node.ind>0):\n",
        "        print(node.str_node())\n",
        "\n",
        "  def Prim_MST(self):\n",
        "    self.nodes[1].cost = 0\n",
        "\n",
        "    for node_w,cost_vw in self.nodes[1].neighbor:\n",
        "      node_w.cost =  cost_vw\n",
        "    \n",
        "    for node_ind in range(2,len(self.nodes)):\n",
        "      heapq.heappush(self.V_X_heap, [self.nodes[node_ind].cost, node_ind]) # heap elements are [A[l],l]\n",
        "      self.V_X_list.append(node_ind)\n",
        "\n",
        "    while (len(self.V_X_heap)>0):\n",
        "      #print(self.V_X_heap)\n",
        "      [cost_v, v] = heapq.heappop(self.V_X_heap)\n",
        "      self.MSTcost += cost_v\n",
        "      self.V_X_list.remove(v)\n",
        "      #print(\"popped: \", [cost_v, v])\n",
        "      for node_w,cost_vw in self.nodes[v].neighbor:\n",
        "        #print(node_w.cost, node_w.ind)\n",
        "        if(node_w.ind in self.V_X_list): \n",
        "          self.V_X_heap.remove([node_w.cost, node_w.ind])\n",
        "          node_w.cost =  min(node_w.cost, cost_vw)\n",
        "          heapq.heappush(self.V_X_heap, [node_w.cost, node_w.ind])\n",
        "      heapq.heapify(self.V_X_heap)\n",
        "    \n",
        "    return (self.MSTcost)\n",
        "\n",
        "    \n",
        "    #self.print_graph()"
      ],
      "execution_count": 3,
      "outputs": []
    },
    {
      "cell_type": "code",
      "metadata": {
        "id": "YrV4cLal6mRy",
        "colab_type": "code",
        "colab": {}
      },
      "source": [
        "def readtest(test):\n",
        "\n",
        "  f = open(test+\".txt\",'r')\n",
        "  # first line no_V, no_E\n",
        "  line = f.readline()\n",
        "  line = line.split()\n",
        "  num_of_nodes = int(line[0])\n",
        "  num_of_edges = int(line[1])\n",
        "  #print(\"num_of_nodes: \", num_of_nodes, \"\\nnum_of_edges: \", num_of_edges)\n",
        "\n",
        "  nodes = []\n",
        "  for i in range(num_of_nodes+1):\n",
        "    nodes.append(node(i))    \n",
        "  \n",
        "  for line in f:\n",
        "    line = line.split()\n",
        "    if(len(line)==0): continue\n",
        "    #line = [int(elem) for elem in line]\n",
        "    lnode = nodes[int(line[0])]\n",
        "    rnode = nodes[int(line[1])]\n",
        "    cost = int(line[2])\n",
        "    lnode.add_node([rnode,cost])\n",
        "    rnode.add_node([lnode,cost])      \n",
        "    \n",
        "  G = Graph(nodes)\n",
        "  return G"
      ],
      "execution_count": 4,
      "outputs": []
    },
    {
      "cell_type": "code",
      "metadata": {
        "id": "zFvXa3MCq0ji",
        "colab_type": "code",
        "colab": {
          "base_uri": "https://localhost:8080/",
          "height": 34
        },
        "outputId": "d5c60712-2b65-4679-d4f7-775d7b1a0b82"
      },
      "source": [
        "# test1\n",
        "G = readtest(\"test1\")\n",
        "#print(\"Graph:\")\n",
        "#G.print_graph()\n",
        "print(\"Prim_MST cost = \", G.Prim_MST())\n",
        "#print(\"Graph:\")\n",
        "#G.print_graph()\n",
        "# answer: 7"
      ],
      "execution_count": 5,
      "outputs": [
        {
          "output_type": "stream",
          "text": [
            "Prim_MST cost =  7\n"
          ],
          "name": "stdout"
        }
      ]
    },
    {
      "cell_type": "code",
      "metadata": {
        "id": "2Hzs7LRAWX1p",
        "colab_type": "code",
        "colab": {
          "base_uri": "https://localhost:8080/",
          "height": 34
        },
        "outputId": "983870ca-78ec-4455-c4f6-46493af83a7f"
      },
      "source": [
        "# test2\n",
        "G = readtest(\"test2\")\n",
        "#print(\"Graph:\")\n",
        "#G.print_graph()\n",
        "print(\"Prim_MST cost = \", G.Prim_MST())\n",
        "#print(\"Graph:\")\n",
        "#G.print_graph()\n",
        "# answer: -97121"
      ],
      "execution_count": 6,
      "outputs": [
        {
          "output_type": "stream",
          "text": [
            "Prim_MST cost =  -97121\n"
          ],
          "name": "stdout"
        }
      ]
    },
    {
      "cell_type": "code",
      "metadata": {
        "id": "SArS5gLzz_mb",
        "colab_type": "code",
        "colab": {
          "base_uri": "https://localhost:8080/",
          "height": 34
        },
        "outputId": "5f493dd8-0b0e-4004-a472-f7035d3f56b3"
      },
      "source": [
        "# test3\n",
        "G = readtest(\"test3\")\n",
        "#print(\"Graph:\")\n",
        "#G.print_graph()\n",
        "print(\"Prim_MST cost = \", G.Prim_MST())\n",
        "#print(\"Graph:\")\n",
        "#G.print_graph()\n",
        "# answer: -184735"
      ],
      "execution_count": 7,
      "outputs": [
        {
          "output_type": "stream",
          "text": [
            "Prim_MST cost =  -184735\n"
          ],
          "name": "stdout"
        }
      ]
    },
    {
      "cell_type": "code",
      "metadata": {
        "id": "m_Qm3w-NCry8",
        "colab_type": "code",
        "colab": {
          "base_uri": "https://localhost:8080/",
          "height": 34
        },
        "outputId": "577774c0-6299-41e2-e090-f925571d6892"
      },
      "source": [
        "# testFinal\n",
        "G = readtest(\"Prim_MST_edges\")\n",
        "#print(\"Graph:\")\n",
        "#G.print_graph()\n",
        "print(\"Prim_MST cost = \", G.Prim_MST())\n",
        "#print(\"Graph:\")\n",
        "#G.print_graph()\n",
        "# answer: -3612829"
      ],
      "execution_count": 8,
      "outputs": [
        {
          "output_type": "stream",
          "text": [
            "Prim_MST cost =  -3612829\n"
          ],
          "name": "stdout"
        }
      ]
    },
    {
      "cell_type": "code",
      "metadata": {
        "id": "5zRGrkLI0IVF",
        "colab_type": "code",
        "colab": {}
      },
      "source": [
        ""
      ],
      "execution_count": 8,
      "outputs": []
    }
  ]
}