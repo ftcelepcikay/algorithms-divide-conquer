{
  "nbformat": 4,
  "nbformat_minor": 0,
  "metadata": {
    "colab": {
      "name": "W4_min_cut_graph_v3_timed_parallet.ipynb",
      "provenance": [],
      "collapsed_sections": [],
      "authorship_tag": "ABX9TyN4NnvAYvtbJeFxJdit2rkk",
      "include_colab_link": true
    },
    "kernelspec": {
      "name": "python3",
      "display_name": "Python 3"
    }
  },
  "cells": [
    {
      "cell_type": "markdown",
      "metadata": {
        "id": "view-in-github",
        "colab_type": "text"
      },
      "source": [
        "<a href=\"https://colab.research.google.com/github/ftcelepcikay/algorithms-divide-conquer/blob/master/W4_min_cut_graph_v3_timed_parallel.ipynb\" target=\"_parent\"><img src=\"https://colab.research.google.com/assets/colab-badge.svg\" alt=\"Open In Colab\"/></a>"
      ]
    },
    {
      "cell_type": "code",
      "metadata": {
        "id": "x4tjHqYKVCeK",
        "colab_type": "code",
        "colab": {}
      },
      "source": [
        "import random\n",
        "import math\n",
        "from joblib import Parallel, delayed\n",
        "import multiprocessing\n",
        "from timeit import default_timer as timer"
      ],
      "execution_count": 0,
      "outputs": []
    },
    {
      "cell_type": "code",
      "metadata": {
        "id": "rWhdroIYH3U-",
        "colab_type": "code",
        "colab": {}
      },
      "source": [
        "def readtest(s):\n",
        "  f = open(s+\".txt\",'r')\n",
        "  A = []\n",
        "  for line in f:\n",
        "    #print(line)\n",
        "    line = line.split() # create list of elemenst separated by ''\n",
        "    if (len(line)==0):\n",
        "      continue\n",
        "    line = [int(i) for i in line]  # convert str list to a int list\n",
        "    A.append((line[0],line[1:]))\n",
        "  #print(A) \n",
        "  return A "
      ],
      "execution_count": 0,
      "outputs": []
    },
    {
      "cell_type": "code",
      "metadata": {
        "id": "Fd1GfACZ9wvb",
        "colab_type": "code",
        "colab": {}
      },
      "source": [
        "def contract(A,m,n):\n",
        "  B=[]\n",
        "  for i in range(len(A)):\n",
        "    if(A[i][0] == m):\n",
        "      listmn =[]\n",
        "      for li in A[i][1]:\n",
        "        if(li!=n):\n",
        "          listmn.append(li)\n",
        "      \n",
        "    elif((A[i][0] == n)):\n",
        "      for li in A[i][1]:\n",
        "        if(li!=m):\n",
        "          listmn.append(li)\n",
        "      row =(n,listmn)\n",
        "      B.append(row)\n",
        "\n",
        "    else:\n",
        "      #print(A[i][1])\n",
        "      listi=[]\n",
        "      for li in A[i][1]:\n",
        "        #print(li)        \n",
        "        if(li==m):\n",
        "          listi.append(n)\n",
        "        else:\n",
        "          listi.append(li)\n",
        "      row =(A[i][0],listi)\n",
        "      B.append(row)\n",
        "  return B\n",
        "\n"
      ],
      "execution_count": 0,
      "outputs": []
    },
    {
      "cell_type": "code",
      "metadata": {
        "id": "t10H11hcMmZC",
        "colab_type": "code",
        "colab": {}
      },
      "source": [
        "#B = contract(A,0,1)\n",
        "#print(B)"
      ],
      "execution_count": 0,
      "outputs": []
    },
    {
      "cell_type": "code",
      "metadata": {
        "id": "Kt4BB6p-Ms7N",
        "colab_type": "code",
        "colab": {}
      },
      "source": [
        "start = timer()\n",
        "def min_cut_iter(A):\n",
        "  vertices = []\n",
        "  for i in range(len(A)):\n",
        "    vertices.append(A[i][0])\n",
        "  #print(vertices)\n",
        "  while (len(vertices)>2):\n",
        "    ind = random.randrange(len(vertices))\n",
        "    m = vertices[ind]\n",
        "    #print(m)\n",
        "    #print(A[ind][1])\n",
        "    n = A[ind][1][random.randrange(len(A[ind][1]))]\n",
        "    #print(n)\n",
        "    #print(m,n)\n",
        "    if(m>n):\n",
        "      m,n = n,m\n",
        "    #print(m,n)\n",
        "    A = contract(A,m,n)\n",
        "    #print(A)\n",
        "    vertices.remove(m)\n",
        "  return len(A[0][1])"
      ],
      "execution_count": 0,
      "outputs": []
    },
    {
      "cell_type": "code",
      "metadata": {
        "id": "f8zr-xR9S588",
        "colab_type": "code",
        "colab": {}
      },
      "source": [
        "#mc = min_cut_iter(A)\n",
        "#print(mc)"
      ],
      "execution_count": 0,
      "outputs": []
    },
    {
      "cell_type": "code",
      "metadata": {
        "id": "eDF4g7Se65u4",
        "colab_type": "code",
        "colab": {}
      },
      "source": [
        "def min_cut(A):\n",
        "  x = len(A)\n",
        "  #n = int(x*x*math.log(x)) \n",
        "  n = int(x*x)\n",
        "  n = min(2000,n) \n",
        "  min_mc = x\n",
        "  start = timer()\n",
        "  for i in range(n):       \n",
        "    mc = min_cut_iter(A)\n",
        "    min_mc = min(min_mc,mc)\n",
        "    if(i%100==0 and i>0):   \n",
        "      end = timer()\n",
        "      print(\"iteration no: \", i, \"mc:\", mc, \"min_mc:\", min_mc, \"time: \", end - start)\n",
        "      start = end \n",
        "  #print( min_mc)\n",
        "  return min_mc"
      ],
      "execution_count": 0,
      "outputs": []
    },
    {
      "cell_type": "code",
      "metadata": {
        "id": "aJqUHYxoXnzm",
        "colab_type": "code",
        "colab": {}
      },
      "source": [
        "def min_cut_parallel(A):\n",
        "  x = len(A)\n",
        "  #n = int(x*x*math.log(x)) \n",
        "  n = int(x*x) \n",
        "  n = min(2000,n)\n",
        "  min_mc = x  \n",
        "\n",
        "  num_cores = multiprocessing.cpu_count()     \n",
        "  results = Parallel(n_jobs=num_cores)(delayed(min_cut_iter)(A) for i in range(n))\n",
        "  min_mc = min(results)\n",
        "  return min_mc"
      ],
      "execution_count": 0,
      "outputs": []
    },
    {
      "cell_type": "code",
      "metadata": {
        "id": "B6SwK3Kc9ZIR",
        "colab_type": "code",
        "outputId": "e82e285f-9b1b-4087-a8ee-7ec34522aa19",
        "colab": {
          "base_uri": "https://localhost:8080/",
          "height": 34
        }
      },
      "source": [
        "A = [(0,[1,3]),(1,[0,2,3]),(2,[1,3]),(3,[0,1,2])]\n",
        "min_cut(A)\n",
        "# result 2"
      ],
      "execution_count": 9,
      "outputs": [
        {
          "output_type": "execute_result",
          "data": {
            "text/plain": [
              "2"
            ]
          },
          "metadata": {
            "tags": []
          },
          "execution_count": 9
        }
      ]
    },
    {
      "cell_type": "code",
      "metadata": {
        "id": "OWA6R-6yd1Qe",
        "colab_type": "code",
        "outputId": "62f8e713-eecd-4519-ca03-9fc3dad30b91",
        "colab": {
          "base_uri": "https://localhost:8080/",
          "height": 34
        }
      },
      "source": [
        "#TEST CASE - 1\n",
        "A = readtest(\"test1\")\n",
        "print(min_cut(A))\n",
        "# result 2"
      ],
      "execution_count": 10,
      "outputs": [
        {
          "output_type": "stream",
          "text": [
            "2\n"
          ],
          "name": "stdout"
        }
      ]
    },
    {
      "cell_type": "code",
      "metadata": {
        "id": "VAcJGhiRfisG",
        "colab_type": "code",
        "outputId": "e2b45721-a467-4f16-88a5-32235eedf282",
        "colab": {
          "base_uri": "https://localhost:8080/",
          "height": 34
        }
      },
      "source": [
        "#TEST CASE - 2\n",
        "A = readtest(\"test2\")\n",
        "print(min_cut(A))\n",
        "# result 1"
      ],
      "execution_count": 11,
      "outputs": [
        {
          "output_type": "stream",
          "text": [
            "1\n"
          ],
          "name": "stdout"
        }
      ]
    },
    {
      "cell_type": "code",
      "metadata": {
        "id": "87_7T6ypK5K8",
        "colab_type": "code",
        "outputId": "d28fab34-41b8-4f23-8b13-2af6719b647e",
        "colab": {
          "base_uri": "https://localhost:8080/",
          "height": 289
        }
      },
      "source": [
        "#/TEST CASE - 3\n",
        "A = readtest(\"test3\")\n",
        "print(min_cut(A))\n",
        "# result 3"
      ],
      "execution_count": 12,
      "outputs": [
        {
          "output_type": "stream",
          "text": [
            "iteration no:  100 mc: 5 min_mc: 3 time:  0.09705863300001738\n",
            "iteration no:  200 mc: 6 min_mc: 3 time:  0.09530371599998944\n",
            "iteration no:  300 mc: 10 min_mc: 3 time:  0.10334770499997603\n",
            "iteration no:  400 mc: 3 min_mc: 3 time:  0.09245496900001626\n",
            "iteration no:  500 mc: 8 min_mc: 3 time:  0.09129522099999576\n",
            "iteration no:  600 mc: 6 min_mc: 3 time:  0.08590935400002309\n",
            "iteration no:  700 mc: 4 min_mc: 3 time:  0.10359772499998599\n",
            "iteration no:  800 mc: 11 min_mc: 3 time:  0.10091219800000317\n",
            "iteration no:  900 mc: 3 min_mc: 3 time:  0.08854235100000096\n",
            "iteration no:  1000 mc: 5 min_mc: 3 time:  0.10958974400000443\n",
            "iteration no:  1100 mc: 8 min_mc: 3 time:  0.09682598400002007\n",
            "iteration no:  1200 mc: 3 min_mc: 3 time:  0.09155527099994742\n",
            "iteration no:  1300 mc: 17 min_mc: 3 time:  0.10231073200003493\n",
            "iteration no:  1400 mc: 3 min_mc: 3 time:  0.09302915099999609\n",
            "iteration no:  1500 mc: 7 min_mc: 3 time:  0.08877513199996656\n",
            "3\n"
          ],
          "name": "stdout"
        }
      ]
    },
    {
      "cell_type": "code",
      "metadata": {
        "id": "j3hNMbNFgg9V",
        "colab_type": "code",
        "outputId": "90baf18e-e71c-46e2-d057-02d9fe09c8a5",
        "colab": {
          "base_uri": "https://localhost:8080/",
          "height": 34
        }
      },
      "source": [
        "#TEST CASE - 4\n",
        "A = readtest(\"test4\")\n",
        "print(min_cut(A))\n",
        "# result 2"
      ],
      "execution_count": 13,
      "outputs": [
        {
          "output_type": "stream",
          "text": [
            "2\n"
          ],
          "name": "stdout"
        }
      ]
    },
    {
      "cell_type": "code",
      "metadata": {
        "id": "uoeqsNNMLU5o",
        "colab_type": "code",
        "outputId": "55cbbb23-d78b-4289-f14c-911096a2e5e1",
        "colab": {
          "base_uri": "https://localhost:8080/",
          "height": 374
        }
      },
      "source": [
        "#TEST CASE - ASSIGNMENT (kargerMinCut)\n",
        "A = readtest(\"kargerMinCut\")\n",
        "start = timer()\n",
        "print(min_cut(A))\n",
        "end = timer()\n",
        "print(\"time: \", end-start)\n",
        "# result 17"
      ],
      "execution_count": 15,
      "outputs": [
        {
          "output_type": "stream",
          "text": [
            "iteration no:  100 mc: 43 min_mc: 17 time:  8.685548300999983\n",
            "iteration no:  200 mc: 190 min_mc: 17 time:  8.675078058999986\n",
            "iteration no:  300 mc: 26 min_mc: 17 time:  8.552400261999992\n",
            "iteration no:  400 mc: 205 min_mc: 17 time:  8.559619997000027\n",
            "iteration no:  500 mc: 30 min_mc: 17 time:  8.744034929000009\n",
            "iteration no:  600 mc: 32 min_mc: 17 time:  8.716440600999988\n",
            "iteration no:  700 mc: 49 min_mc: 17 time:  8.541118781000023\n",
            "iteration no:  800 mc: 54 min_mc: 17 time:  8.554156911999996\n",
            "iteration no:  900 mc: 27 min_mc: 17 time:  8.434150787999954\n",
            "iteration no:  1000 mc: 20 min_mc: 17 time:  8.445979909000016\n",
            "iteration no:  1100 mc: 80 min_mc: 17 time:  8.544926943999997\n",
            "iteration no:  1200 mc: 89 min_mc: 17 time:  8.49836022300002\n",
            "iteration no:  1300 mc: 21 min_mc: 17 time:  8.570157473999984\n",
            "iteration no:  1400 mc: 20 min_mc: 17 time:  8.702759784000023\n",
            "iteration no:  1500 mc: 17 min_mc: 17 time:  8.584280450999984\n",
            "iteration no:  1600 mc: 270 min_mc: 17 time:  8.554813240999977\n",
            "iteration no:  1700 mc: 38 min_mc: 17 time:  8.585870666999995\n",
            "iteration no:  1800 mc: 50 min_mc: 17 time:  8.61620309600005\n",
            "iteration no:  1900 mc: 26 min_mc: 17 time:  8.55948897899998\n",
            "17\n",
            "time:  171.55727099799998\n"
          ],
          "name": "stdout"
        }
      ]
    },
    {
      "cell_type": "code",
      "metadata": {
        "id": "FtmlO7xqL4_Y",
        "colab_type": "code",
        "colab": {
          "base_uri": "https://localhost:8080/",
          "height": 51
        },
        "outputId": "cee61dde-eaee-42af-e1bf-37281035b657"
      },
      "source": [
        "#TEST CASE - ASSIGNMENT (kargerMinCut) - multiprocessing\n",
        "A = readtest(\"kargerMinCut\")\n",
        "start = timer()\n",
        "print(min_cut_parallel(A))\n",
        "end = timer()\n",
        "print(\"time: \", end-start)\n",
        "# result 17"
      ],
      "execution_count": 16,
      "outputs": [
        {
          "output_type": "stream",
          "text": [
            "17\n",
            "time:  190.675939686\n"
          ],
          "name": "stdout"
        }
      ]
    },
    {
      "cell_type": "code",
      "metadata": {
        "id": "c7KFm4o7BaDq",
        "colab_type": "code",
        "colab": {}
      },
      "source": [
        ""
      ],
      "execution_count": 0,
      "outputs": []
    }
  ]
}