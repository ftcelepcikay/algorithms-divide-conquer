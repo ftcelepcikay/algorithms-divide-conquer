{
  "nbformat": 4,
  "nbformat_minor": 0,
  "metadata": {
    "colab": {
      "name": "Karatsuba_multiplication.ipynb",
      "provenance": [],
      "authorship_tag": "ABX9TyPDKW3xR1ByfB7WcwhETj7G",
      "include_colab_link": true
    },
    "kernelspec": {
      "name": "python3",
      "display_name": "Python 3"
    }
  },
  "cells": [
    {
      "cell_type": "markdown",
      "metadata": {
        "id": "view-in-github",
        "colab_type": "text"
      },
      "source": [
        "<a href=\"https://colab.research.google.com/github/ftcelepcikay/algorithms-divide-conquer/blob/master/Karatsuba_multiplication_v2.ipynb\" target=\"_parent\"><img src=\"https://colab.research.google.com/assets/colab-badge.svg\" alt=\"Open In Colab\"/></a>"
      ]
    },
    {
      "cell_type": "markdown",
      "metadata": {
        "id": "knTbBXJTL_r-",
        "colab_type": "text"
      },
      "source": [
        "Karatsuba multiplication is implemented. The function is recursive."
      ]
    },
    {
      "cell_type": "code",
      "metadata": {
        "id": "AmcZI8rgh1Kp",
        "colab_type": "code",
        "colab": {}
      },
      "source": [
        "def mult(x,y):\n",
        "  n = max(len(x),len(y))\n",
        "  if(n%2==1):\n",
        "    n+=1\n",
        "  l = (n//2)   # // is integer division. If / is used then l is not int, it is double.\n",
        "  #padding with 0s if needed.\n",
        "  x = \"0\"*(n-len(x))+x\n",
        "  y = \"0\"*(n-len(y))+y\n",
        "\n",
        "  #find a, b, c, d.\n",
        "  a = x[:l]\n",
        "  b = x[l:]\n",
        "\n",
        "  c = y[:l]\n",
        "  d = y[l:]\n",
        "\n",
        "  #print(\"l: \",l)\n",
        "  #print(\"a: \",a, \"b: \",b)\n",
        "  #print(\"c: \",c, \"d: \",d)\n",
        "\n",
        "  if(l == 1):\n",
        "    a = int(a)\n",
        "    b = int(b)\n",
        "    c = int(c)\n",
        "    d = int(d)\n",
        "    ac = a*c\n",
        "    bd = b*d\n",
        "    ad = a*d\n",
        "    bc = b*c\n",
        "    xy = str((10**n)*ac + (10**l)*(ad+bc) + bd)\n",
        "    return xy;\n",
        "\n",
        "  # if we use 4 calls, then cost becomes O(n^2). Therefore we should use 3 calls as shown.\n",
        "  ac = int(mult(a,c))\n",
        "  bd = int(mult(b,d))\n",
        "  #ad = int(mult(a,d))\n",
        "  #bc = int(mult(b,c))\n",
        "  \n",
        "  adbc = int(mult(str(int(a)+int(b)),str(int(c)+int(d))))-ac-bd\n",
        "\n",
        "  #print(ad+bc)\n",
        "  #print(adbc)\n",
        "  #xy = str((10**n)*ac + (10**l)*(ad+bc) + bd)\n",
        "  xy = str((10**n)*ac + (10**l)*(adbc) + bd)\n",
        "  return xy"
      ],
      "execution_count": 0,
      "outputs": []
    },
    {
      "cell_type": "code",
      "metadata": {
        "id": "yVph454xrp3n",
        "colab_type": "code",
        "colab": {
          "base_uri": "https://localhost:8080/",
          "height": 51
        },
        "outputId": "2f189e16-9981-4217-f1c2-b92567fe8d9d"
      },
      "source": [
        "x = \"12\"\n",
        "y = \"11\"\n",
        "print(mult(x,y))\n",
        "print(int(x)*int(y))"
      ],
      "execution_count": 2,
      "outputs": [
        {
          "output_type": "stream",
          "text": [
            "132\n",
            "132\n"
          ],
          "name": "stdout"
        }
      ]
    },
    {
      "cell_type": "code",
      "metadata": {
        "id": "t1Ct2Vedi3OF",
        "colab_type": "code",
        "colab": {
          "base_uri": "https://localhost:8080/",
          "height": 51
        },
        "outputId": "5fd05e7b-2703-4f65-9342-0d7b6bcc92a1"
      },
      "source": [
        "x = \"5678\"\n",
        "y = \"1234\"\n",
        "print(mult(x,y))\n",
        "print(int(x)*int(y))"
      ],
      "execution_count": 3,
      "outputs": [
        {
          "output_type": "stream",
          "text": [
            "7006652\n",
            "7006652\n"
          ],
          "name": "stdout"
        }
      ]
    },
    {
      "cell_type": "code",
      "metadata": {
        "id": "YVVI7QcIicnY",
        "colab_type": "code",
        "colab": {
          "base_uri": "https://localhost:8080/",
          "height": 51
        },
        "outputId": "1b66a7b4-a6a7-4058-8e9a-53f75b4b5818"
      },
      "source": [
        "x = \"3141592653589793238462643383279502884197169399375105820974944592\"\n",
        "y = \"2718281828459045235360287471352662497757247093699959574966967627\"\n",
        "print(mult(x,y))\n",
        "print(int(x)*int(y))"
      ],
      "execution_count": 4,
      "outputs": [
        {
          "output_type": "stream",
          "text": [
            "8539734222673567065463550869546574495034888535765114961879601127067743044893204848617875072216249073013374895871952806582723184\n",
            "8539734222673567065463550869546574495034888535765114961879601127067743044893204848617875072216249073013374895871952806582723184\n"
          ],
          "name": "stdout"
        }
      ]
    },
    {
      "cell_type": "code",
      "metadata": {
        "id": "KsOllvf8WgRg",
        "colab_type": "code",
        "colab": {
          "base_uri": "https://localhost:8080/",
          "height": 51
        },
        "outputId": "882da64d-af4c-4c06-837e-d14d6582a066"
      },
      "source": [
        "x = \"12068\"\n",
        "y = \"189\"\n",
        "print(mult(x,y))\n",
        "print(int(x)*int(y))"
      ],
      "execution_count": 5,
      "outputs": [
        {
          "output_type": "stream",
          "text": [
            "2280852\n",
            "2280852\n"
          ],
          "name": "stdout"
        }
      ]
    },
    {
      "cell_type": "code",
      "metadata": {
        "id": "dO5mxMXDW2I8",
        "colab_type": "code",
        "colab": {}
      },
      "source": [
        ""
      ],
      "execution_count": 0,
      "outputs": []
    }
  ]
}
