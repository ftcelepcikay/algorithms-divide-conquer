{
  "nbformat": 4,
  "nbformat_minor": 0,
  "metadata": {
    "colab": {
      "name": "Karatsuba_multiplication.ipynb",
      "provenance": [],
      "authorship_tag": "ABX9TyN6mJ2D3HlftvPRzDg/tqLM",
      "include_colab_link": true
    },
    "kernelspec": {
      "name": "python3",
      "display_name": "Python 3"
    }
  },
  "cells": [
    {
      "cell_type": "markdown",
      "metadata": {
        "id": "view-in-github",
        "colab_type": "text"
      },
      "source": [
        "<a href=\"https://colab.research.google.com/github/ftcelepcikay/algorithms-divide-conquer/blob/master/Karatsuba_multiplication.ipynb\" target=\"_parent\"><img src=\"https://colab.research.google.com/assets/colab-badge.svg\" alt=\"Open In Colab\"/></a>"
      ]
    },
    {
      "cell_type": "markdown",
      "metadata": {
        "id": "knTbBXJTL_r-",
        "colab_type": "text"
      },
      "source": [
        "Karatsuba multiplication is implemented. The function is recursive."
      ]
    },
    {
      "cell_type": "code",
      "metadata": {
        "id": "AmcZI8rgh1Kp",
        "colab_type": "code",
        "colab": {}
      },
      "source": [
        "def mult(x,y):\n",
        "  n = len(x)\n",
        "  l = (n//2)   # // is integer division. If / is used then l is not int, it is double.\n",
        "  a = x[:l]\n",
        "  b = x[l:]\n",
        "\n",
        "  c = y[:l]\n",
        "  d = y[l:]\n",
        "\n",
        "  #print(\"l: \",l)\n",
        "  #print(\"a: \",a, \"b: \",b)\n",
        "  #print(\"c: \",c, \"d: \",d)\n",
        "\n",
        "  if(l == 1):\n",
        "    a = int(a)\n",
        "    b = int(b)\n",
        "    c = int(c)\n",
        "    d = int(d)\n",
        "    ac = a*c\n",
        "    bd = b*d\n",
        "    ad = a*d\n",
        "    bc = b*c\n",
        "    xy = str((10**n)*ac + (10**l)*(ad+bc) + bd)\n",
        "    return xy;\n",
        "\n",
        "  ac = int(mult(a,c))\n",
        "  bd = int(mult(b,d))\n",
        "  ad = int(mult(a,d))\n",
        "  bc = int(mult(b,c))\n",
        "  xy = str((10**n)*ac + (10**l)*(ad+bc) + bd)\n",
        "  return xy"
      ],
      "execution_count": 0,
      "outputs": []
    },
    {
      "cell_type": "code",
      "metadata": {
        "id": "yVph454xrp3n",
        "colab_type": "code",
        "colab": {
          "base_uri": "https://localhost:8080/",
          "height": 34
        },
        "outputId": "bcb3635e-2abb-47fb-a12e-9b38a2f275d1"
      },
      "source": [
        "x = \"12\"\n",
        "y = \"11\"\n",
        "mult(x,y)"
      ],
      "execution_count": 40,
      "outputs": [
        {
          "output_type": "execute_result",
          "data": {
            "text/plain": [
              "'132'"
            ]
          },
          "metadata": {
            "tags": []
          },
          "execution_count": 40
        }
      ]
    },
    {
      "cell_type": "code",
      "metadata": {
        "id": "t1Ct2Vedi3OF",
        "colab_type": "code",
        "colab": {
          "base_uri": "https://localhost:8080/",
          "height": 34
        },
        "outputId": "e44d651f-bf93-477e-f87e-4f14f7ac5219"
      },
      "source": [
        "x = \"5678\"\n",
        "y = \"1234\"\n",
        "mult(x,y)"
      ],
      "execution_count": 41,
      "outputs": [
        {
          "output_type": "execute_result",
          "data": {
            "text/plain": [
              "'7006652'"
            ]
          },
          "metadata": {
            "tags": []
          },
          "execution_count": 41
        }
      ]
    },
    {
      "cell_type": "code",
      "metadata": {
        "id": "YVVI7QcIicnY",
        "colab_type": "code",
        "colab": {
          "base_uri": "https://localhost:8080/",
          "height": 34
        },
        "outputId": "0f02c206-91d0-44ae-a89b-2f76573922e0"
      },
      "source": [
        "x = \"3141592653589793238462643383279502884197169399375105820974944592\"\n",
        "y = \"2718281828459045235360287471352662497757247093699959574966967627\"\n",
        "mult(x,y)"
      ],
      "execution_count": 42,
      "outputs": [
        {
          "output_type": "execute_result",
          "data": {
            "text/plain": [
              "'8539734222673567065463550869546574495034888535765114961879601127067743044893204848617875072216249073013374895871952806582723184'"
            ]
          },
          "metadata": {
            "tags": []
          },
          "execution_count": 42
        }
      ]
    },
    {
      "cell_type": "code",
      "metadata": {
        "id": "yySXFSIninyI",
        "colab_type": "code",
        "colab": {
          "base_uri": "https://localhost:8080/",
          "height": 34
        },
        "outputId": "2962b098-951c-4685-be21-5fc1096e51b9"
      },
      "source": [
        "x = int(\"3141592653589793238462643383279502884197169399375105820974944592\")\n",
        "y = int(\"2718281828459045235360287471352662497757247093699959574966967627\")\n",
        "x*y"
      ],
      "execution_count": 43,
      "outputs": [
        {
          "output_type": "execute_result",
          "data": {
            "text/plain": [
              "8539734222673567065463550869546574495034888535765114961879601127067743044893204848617875072216249073013374895871952806582723184"
            ]
          },
          "metadata": {
            "tags": []
          },
          "execution_count": 43
        }
      ]
    },
    {
      "cell_type": "code",
      "metadata": {
        "id": "NzzjpOTAtrLw",
        "colab_type": "code",
        "colab": {}
      },
      "source": [
        ""
      ],
      "execution_count": 0,
      "outputs": []
    }
  ]
}
