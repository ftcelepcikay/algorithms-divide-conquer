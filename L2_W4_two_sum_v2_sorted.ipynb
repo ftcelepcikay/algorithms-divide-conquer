{
  "nbformat": 4,
  "nbformat_minor": 0,
  "metadata": {
    "colab": {
      "name": "L2_W4_two_sum_v2_sorted.ipynb",
      "provenance": [],
      "authorship_tag": "ABX9TyNsF1P8+uuRHThDdZWWkOzN",
      "include_colab_link": true
    },
    "kernelspec": {
      "name": "python3",
      "display_name": "Python 3"
    }
  },
  "cells": [
    {
      "cell_type": "markdown",
      "metadata": {
        "id": "view-in-github",
        "colab_type": "text"
      },
      "source": [
        "<a href=\"https://colab.research.google.com/github/ftcelepcikay/algorithms-divide-conquer/blob/master/L2_W4_two_sum_v2_sorted.ipynb\" target=\"_parent\"><img src=\"https://colab.research.google.com/assets/colab-badge.svg\" alt=\"Open In Colab\"/></a>"
      ]
    },
    {
      "cell_type": "code",
      "metadata": {
        "id": "mYf2cTufw5mJ",
        "colab_type": "code",
        "colab": {}
      },
      "source": [
        "from numpy import loadtxt\n",
        "from timeit import default_timer as timer"
      ],
      "execution_count": 1,
      "outputs": []
    },
    {
      "cell_type": "code",
      "metadata": {
        "id": "HnDmxCEuxBhd",
        "colab_type": "code",
        "colab": {}
      },
      "source": [
        "def readtest(test):\n",
        "  f = open(test + \".txt\",'r')\n",
        "  A_list = []\n",
        "  for x in f:\n",
        "    x = x.split()\n",
        "    if (len(x) == 0): continue\n",
        "    x = int(x[0])\n",
        "    if (x not in A_list):\n",
        "      A_list.append(x)\n",
        "  return A_list\n"
      ],
      "execution_count": 2,
      "outputs": []
    },
    {
      "cell_type": "code",
      "metadata": {
        "id": "Dx9a540ywBcf",
        "colab_type": "code",
        "colab": {}
      },
      "source": [
        "def qsort(array):\n",
        "    less = []\n",
        "    equal = []\n",
        "    greater = []\n",
        "\n",
        "    if len(array) > 1:\n",
        "        pivot = array[0]\n",
        "        for x in array:\n",
        "            if x < pivot:\n",
        "                less.append(x)\n",
        "            if x == pivot:\n",
        "                equal.append(x)\n",
        "            if x > pivot:\n",
        "                greater.append(x)\n",
        "        # Don't forget to return something!\n",
        "        return qsort(less)+equal+qsort(greater)  # Just use the + operator to join lists\n",
        "    # Note that you want equal ^^^^^ not pivot\n",
        "    else:  # You need to hande the part at the end of the recursion - when you only have one element in your array, just return the array.\n",
        "        return array"
      ],
      "execution_count": 3,
      "outputs": []
    },
    {
      "cell_type": "code",
      "metadata": {
        "id": "NYk6I9us59X2",
        "colab_type": "code",
        "colab": {}
      },
      "source": [
        "def two_sum_list(A_list, sum_list):\n",
        "  high_ind = len(A_list)-1\n",
        "  low_ind = high_ind  \n",
        "  new_list = []\n",
        " \n",
        "  for x in A_list:\n",
        "    if (x < 5000):\n",
        "      #print(x)\n",
        "      while (A_list[high_ind]+x > 10000):\n",
        "        high_ind -= 1\n",
        "      \n",
        "      low_ind = high_ind\n",
        "      while (A_list[low_ind]+x > -10000) : #and (low_ind > 0)\n",
        "        low_ind -= 1\n",
        "\n",
        "      #print(A_list[low_ind +1 :high_ind +1])\n",
        "      new_list = new_list + [x  + y for y in A_list[low_ind+1:high_ind+1]]\n",
        "      #print(new_list)\n",
        "  new_set = set(new_list)\n",
        "  #print(new_list)\n",
        "  return (len(new_set))\n",
        "  "
      ],
      "execution_count": 4,
      "outputs": []
    },
    {
      "cell_type": "code",
      "metadata": {
        "id": "DniGTNXx63Kc",
        "colab_type": "code",
        "colab": {
          "base_uri": "https://localhost:8080/",
          "height": 34
        },
        "outputId": "3e510edc-925f-4646-905e-ff8301d566c1"
      },
      "source": [
        "# test4  , sum_list = [-10000,10000]\n",
        "test4 = loadtxt(\"test4.txt\",dtype=int)\n",
        "test4 = qsort(test4)\n",
        "#print(test4)\n",
        "sum_list = list (range(-10000,10001))\n",
        "print(two_sum_list(test4, sum_list))\n",
        "# answer = 35"
      ],
      "execution_count": 5,
      "outputs": [
        {
          "output_type": "stream",
          "text": [
            "35\n"
          ],
          "name": "stdout"
        }
      ]
    },
    {
      "cell_type": "code",
      "metadata": {
        "id": "8RXUW516gDn9",
        "colab_type": "code",
        "colab": {
          "base_uri": "https://localhost:8080/",
          "height": 34
        },
        "outputId": "2408bd32-f9d0-41d5-86ea-bce478b4ea88"
      },
      "source": [
        "# test5  , sum_list = [-10000,10000]\n",
        "test5 = loadtxt(\"test5.txt\",dtype=int)\n",
        "test5 = qsort(test5)\n",
        "#print(test5)\n",
        "sum_list = list (range(-10000,10001))\n",
        "print(two_sum_list(test5, sum_list))\n",
        "# answer = 96"
      ],
      "execution_count": 6,
      "outputs": [
        {
          "output_type": "stream",
          "text": [
            "96\n"
          ],
          "name": "stdout"
        }
      ]
    },
    {
      "cell_type": "code",
      "metadata": {
        "id": "6cheU6Y8wQ8O",
        "colab_type": "code",
        "colab": {
          "base_uri": "https://localhost:8080/",
          "height": 85
        },
        "outputId": "6c737abe-bc36-43d5-e0ba-36d6cc0c02b7"
      },
      "source": [
        "start = timer()\n",
        "#testFinal = readtest(\"prob2sum\")  # this is very slow compared to loadtxt np\n",
        "testFinal = loadtxt(\"prob2sum.txt\",dtype=int)\n",
        "end = timer()\n",
        "print(\"read time: \", end-start)\n",
        "start = timer()\n",
        "testFinalsorted = qsort(testFinal)\n",
        "end = timer()\n",
        "print(\"sort time: \", end-start)\n",
        "# print(testFinalsorted[:10])\n",
        "# print(testFinalsorted[-10:])\n",
        "sum_list = list (range(-10000,10001))\n",
        "start = timer()\n",
        "print(two_sum_list(testFinalsorted, sum_list))\n",
        "end = timer()\n",
        "print(\"two_sum time: \", end-start)\n",
        "# answer = 427"
      ],
      "execution_count": 7,
      "outputs": [
        {
          "output_type": "stream",
          "text": [
            "read time:  3.684399587000371\n",
            "sort time:  6.602988646000085\n",
            "427\n",
            "two_sum time:  45.659483007000745\n"
          ],
          "name": "stdout"
        }
      ]
    },
    {
      "cell_type": "code",
      "metadata": {
        "id": "gMgPkmivznGQ",
        "colab_type": "code",
        "colab": {}
      },
      "source": [
        ""
      ],
      "execution_count": 7,
      "outputs": []
    }
  ]
}