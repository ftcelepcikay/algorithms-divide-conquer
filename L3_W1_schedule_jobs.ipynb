{
  "nbformat": 4,
  "nbformat_minor": 0,
  "metadata": {
    "colab": {
      "name": "L3_W1_schedule_jobs.ipynb",
      "provenance": [],
      "authorship_tag": "ABX9TyMQ7/HLVT3J5N5JqnwUXvpk",
      "include_colab_link": true
    },
    "kernelspec": {
      "name": "python3",
      "display_name": "Python 3"
    }
  },
  "cells": [
    {
      "cell_type": "markdown",
      "metadata": {
        "id": "view-in-github",
        "colab_type": "text"
      },
      "source": [
        "<a href=\"https://colab.research.google.com/github/ftcelepcikay/algorithms-divide-conquer/blob/master/L3_W1_schedule_jobs.ipynb\" target=\"_parent\"><img src=\"https://colab.research.google.com/assets/colab-badge.svg\" alt=\"Open In Colab\"/></a>"
      ]
    },
    {
      "cell_type": "markdown",
      "metadata": {
        "id": "vfsUfRFMLYE9",
        "colab_type": "text"
      },
      "source": [
        "Greedy algorithm that schedules jobs in decreasing order of the difference (w - l) or division (w/l). If two jobs have equal value, schedule the job with higher weight first. "
      ]
    },
    {
      "cell_type": "code",
      "metadata": {
        "id": "Ltzi6Rpvoya9",
        "colab_type": "code",
        "colab": {}
      },
      "source": [
        "def complete_jobs(test):\n",
        "  f = open(test+\".txt\")\n",
        "  n = int(f.readline())\n",
        "  w = []\n",
        "  l = []\n",
        "  w_l_diff = []\n",
        "  w_l_div = []\n",
        "  for line in f:\n",
        "    line = line.split()\n",
        "    if (len(line)==0): continue\n",
        "    w.append(int(line[0]))\n",
        "    l.append(int(line[1]))\n",
        "    w_l_diff.append(int(line[0])-int(line[1]))\n",
        "    w_l_div.append(int(line[0])/int(line[1]))\n",
        "\n",
        "  s_w_l_diff = sorted(((val, w[ind], ind)   for ind, val in enumerate(w_l_diff)) , reverse=True)  \n",
        "\n",
        "  c_i = 0\n",
        "  cost_diff = 0\n",
        "  for i in s_w_l_diff:\n",
        "    ind = i[2]\n",
        "    c_i += l[ind]\n",
        "    cost_diff += c_i * w[ind]\n",
        "    #print(ind, w[ind], l[ind], c_i, cost_diff)\n",
        "  \n",
        "  s_w_l_div = sorted(((val, w[ind], ind)   for ind, val in enumerate(w_l_div)) , reverse=True)\n",
        "\n",
        "  c_i = 0\n",
        "  cost_div = 0\n",
        "  for i in s_w_l_div:\n",
        "    ind = i[2]\n",
        "    c_i += l[ind]\n",
        "    cost_div += c_i * w[ind]\n",
        "    #print(ind, w[ind], l[ind], c_i, cost_diff)\n",
        "\n",
        "  return cost_diff, cost_div"
      ],
      "execution_count": 1,
      "outputs": []
    },
    {
      "cell_type": "code",
      "metadata": {
        "id": "TmNMfpsVzb5H",
        "colab_type": "code",
        "colab": {
          "base_uri": "https://localhost:8080/",
          "height": 34
        },
        "outputId": "995d1722-1da9-4a3c-b6ac-1e86816a9e56"
      },
      "source": [
        "print(complete_jobs(\"test1\"))\n",
        "# answer = [121, ]"
      ],
      "execution_count": 2,
      "outputs": [
        {
          "output_type": "stream",
          "text": [
            "(121, 114)\n"
          ],
          "name": "stdout"
        }
      ]
    },
    {
      "cell_type": "code",
      "metadata": {
        "id": "2vO8srdS0uH0",
        "colab_type": "code",
        "colab": {
          "base_uri": "https://localhost:8080/",
          "height": 34
        },
        "outputId": "e3d54ceb-972e-4854-bb26-d2da5031a2a8"
      },
      "source": [
        "print(complete_jobs(\"test2\"))\n",
        "# answer = [1175612, 1142691]"
      ],
      "execution_count": 3,
      "outputs": [
        {
          "output_type": "stream",
          "text": [
            "(1175612, 1142691)\n"
          ],
          "name": "stdout"
        }
      ]
    },
    {
      "cell_type": "code",
      "metadata": {
        "id": "wpjvIR69cBRY",
        "colab_type": "code",
        "colab": {
          "base_uri": "https://localhost:8080/",
          "height": 34
        },
        "outputId": "7f53c0c5-8705-4645-b6f2-e4683f5106fa"
      },
      "source": [
        "print(complete_jobs(\"test3\"))\n",
        "# answer = [1141923488, 1111993426]"
      ],
      "execution_count": 4,
      "outputs": [
        {
          "output_type": "stream",
          "text": [
            "(1141923488, 1111993426)\n"
          ],
          "name": "stdout"
        }
      ]
    },
    {
      "cell_type": "code",
      "metadata": {
        "id": "zC8n0vGfhuY2",
        "colab_type": "code",
        "colab": {
          "base_uri": "https://localhost:8080/",
          "height": 34
        },
        "outputId": "691d726b-765e-487e-c1a6-b6a7913e381e"
      },
      "source": [
        "print(complete_jobs(\"jobs\"))\n",
        "# answer = [69119377652, 67311454237]"
      ],
      "execution_count": 5,
      "outputs": [
        {
          "output_type": "stream",
          "text": [
            "(69119377652, 67311454237)\n"
          ],
          "name": "stdout"
        }
      ]
    }
  ]
}