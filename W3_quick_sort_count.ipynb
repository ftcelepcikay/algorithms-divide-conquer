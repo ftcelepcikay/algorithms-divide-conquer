{
  "nbformat": 4,
  "nbformat_minor": 0,
  "metadata": {
    "colab": {
      "name": "W3_quick_sort_count.ipynb",
      "provenance": [],
      "authorship_tag": "ABX9TyPh5/8/bGH0kbyEv+ZrUKIA",
      "include_colab_link": true
    },
    "kernelspec": {
      "name": "python3",
      "display_name": "Python 3"
    }
  },
  "cells": [
    {
      "cell_type": "markdown",
      "metadata": {
        "id": "view-in-github",
        "colab_type": "text"
      },
      "source": [
        "<a href=\"https://colab.research.google.com/github/ftcelepcikay/algorithms-divide-conquer/blob/master/W3_quick_sort_count.ipynb\" target=\"_parent\"><img src=\"https://colab.research.google.com/assets/colab-badge.svg\" alt=\"Open In Colab\"/></a>"
      ]
    },
    {
      "cell_type": "code",
      "metadata": {
        "id": "3aZQw1T7Nyqf",
        "colab_type": "code",
        "colab": {}
      },
      "source": [
        "def partition(A, l, r):\n",
        "  #print(\"A:\", A, \" ,l:\",l, \", r:\",r)\n",
        "  piv = A[l]\n",
        "  i = l+1\n",
        "  for j in range(i,r):\n",
        "    if(A[j]<piv):\n",
        "      A[j], A[i] = A[i], A[j]\n",
        "      i += 1\n",
        "  A[l], A[i-1] = A[i-1], A[l]\n",
        "  return i, r-l-1  "
      ],
      "execution_count": 0,
      "outputs": []
    },
    {
      "cell_type": "code",
      "metadata": {
        "id": "6LHNZiXP_yf7",
        "colab_type": "code",
        "colab": {}
      },
      "source": [
        "def choose_pivot(A, n):\n",
        "  return 0"
      ],
      "execution_count": 0,
      "outputs": []
    },
    {
      "cell_type": "code",
      "metadata": {
        "id": "3JJv9dbN9udz",
        "colab_type": "code",
        "colab": {}
      },
      "source": [
        "def quick_sort_count(A, l, r, m):   # m is method\n",
        "  if(l>=r-1):\n",
        "    return 0\n",
        "  #p = choose_pivot(A, n)\n",
        "  if(m==2):   # pivot is the last element\n",
        "    A[l],A[r-1]=A[r-1],A[l]\n",
        "\n",
        "  if(m==3):   # pivot is the median element\n",
        "    p = (r-1+l)//2\n",
        "    if((A[p]>A[l] and A[r-1]>A[p]) or (A[p]<A[l] and A[r-1]<A[p])):\n",
        "      A[l],A[p]=A[p],A[l]\n",
        "    elif((A[r-1]>A[l] and A[r-1]<A[p]) or (A[r-1]<A[l] and A[r-1]>A[p])):\n",
        "      A[l],A[r-1]=A[r-1],A[l]    \n",
        "\n",
        "  i, m0 = partition(A,l,r)  \n",
        "  ml = quick_sort_count(A,l,i-1,m)\n",
        "  mr = quick_sort_count(A,i,r,m)\n",
        "\n",
        "  return ml+mr+m0\n"
      ],
      "execution_count": 0,
      "outputs": []
    },
    {
      "cell_type": "code",
      "metadata": {
        "id": "CcxeH_nTJbVN",
        "colab_type": "code",
        "colab": {
          "base_uri": "https://localhost:8080/",
          "height": 68
        },
        "outputId": "d9a1235b-7179-40e6-ea1e-880d5049868e"
      },
      "source": [
        "#TEST CASE - 1\n",
        "#m=1\n",
        "A = [4,3,2,5,1]\n",
        "A2 = A\n",
        "#print(A)\n",
        "m1 = quick_sort_count(A,0,len(A),1)\n",
        "#print(A)\n",
        "print(m1)\n",
        "\n",
        "#m=2\n",
        "A = [4,3,2,5,1]\n",
        "#print(A)\n",
        "m2 = quick_sort_count(A,0,len(A),2)\n",
        "#print(A)\n",
        "print(m2)\n",
        "\n",
        "#m=3\n",
        "A = [4,3,2,5,1]\n",
        "#print(A)\n",
        "m3 = quick_sort_count(A,0,len(A),3)\n",
        "#print(A)\n",
        "print(m3)\n",
        "\n",
        "# output\n",
        "#[m1 m2 m3]=[7 8 6]"
      ],
      "execution_count": 4,
      "outputs": [
        {
          "output_type": "stream",
          "text": [
            "7\n",
            "8\n",
            "6\n"
          ],
          "name": "stdout"
        }
      ]
    },
    {
      "cell_type": "code",
      "metadata": {
        "id": "DvpsOvWTIaBY",
        "colab_type": "code",
        "colab": {
          "base_uri": "https://localhost:8080/",
          "height": 51
        },
        "outputId": "9a75d86a-7b57-4ef9-aaaf-11ec65bb64a1"
      },
      "source": [
        "#TEST CASE - 2\n",
        "#m=1\n",
        "A = [3,8,2,5,1,4,7,6]\n",
        "#print(A)\n",
        "m1 = quick_sort_count(A,0,len(A),1)\n",
        "#print(A)\n",
        "print(m1)\n",
        "\n",
        "#m=2\n",
        "A = [3,8,2,5,1,4,7,6]\n",
        "#print(A)\n",
        "m2 = quick_sort_count(A,0,len(A),2)\n",
        "#print(A)\n",
        "print(m2)"
      ],
      "execution_count": 5,
      "outputs": [
        {
          "output_type": "stream",
          "text": [
            "15\n",
            "15\n"
          ],
          "name": "stdout"
        }
      ]
    },
    {
      "cell_type": "code",
      "metadata": {
        "id": "MW_gcVS0ieOp",
        "colab_type": "code",
        "colab": {
          "base_uri": "https://localhost:8080/",
          "height": 68
        },
        "outputId": "08f2baea-e762-4edc-976e-6744d4d9c462"
      },
      "source": [
        "# read file line by line\n",
        "#TEST CASE - 3\n",
        "#m=1\n",
        "f = open(\"10.txt\",'r')\n",
        "A = []\n",
        "for line in f:\n",
        "    a = int(line)  # int() removes \\n\n",
        "    A.append(a)\n",
        "#print(len(A))\n",
        "#print(A)\n",
        "m = quick_sort_count(A,0,len(A),1)\n",
        "#print(A)\n",
        "print(m)\n",
        "\n",
        "#m=2\n",
        "f = open(\"10.txt\",'r')\n",
        "A = []\n",
        "for line in f:\n",
        "    a = int(line)  # int() removes \\n\n",
        "    A.append(a)\n",
        "#print(len(A))\n",
        "#print(A)\n",
        "m2 = quick_sort_count(A,0,len(A),2)\n",
        "#print(A)\n",
        "print(m2)\n",
        "\n",
        "#m=3\n",
        "f = open(\"10.txt\",'r')\n",
        "A = []\n",
        "for line in f:\n",
        "    a = int(line)  # int() removes \\n\n",
        "    A.append(a)\n",
        "#print(len(A))\n",
        "#print(A)\n",
        "m3 = quick_sort_count(A,0,len(A),3)\n",
        "#print(A)\n",
        "print(m3)\n",
        "\n",
        "# output\n",
        "#[m1 m2 m3]=[21 22 20]"
      ],
      "execution_count": 6,
      "outputs": [
        {
          "output_type": "stream",
          "text": [
            "21\n",
            "22\n",
            "20\n"
          ],
          "name": "stdout"
        }
      ]
    },
    {
      "cell_type": "code",
      "metadata": {
        "id": "svb2oBfUaf3V",
        "colab_type": "code",
        "colab": {
          "base_uri": "https://localhost:8080/",
          "height": 68
        },
        "outputId": "a1c371fb-a6d4-40a4-8d92-a8b8cd4ace40"
      },
      "source": [
        "# read file line by line\n",
        "#TEST CASE - 4\n",
        "#m=1\n",
        "f = open(\"20.txt\",'r')\n",
        "A = []\n",
        "for line in f:\n",
        "    a = int(line)  # int() removes \\n\n",
        "    A.append(a)\n",
        "#print(len(A))\n",
        "#print(A)\n",
        "m = quick_sort_count(A,0,len(A),1)\n",
        "#print(A)\n",
        "print(m)\n",
        "\n",
        "#m=2\n",
        "f = open(\"20.txt\",'r')\n",
        "A = []\n",
        "for line in f:\n",
        "    a = int(line)  # int() removes \\n\n",
        "    A.append(a)\n",
        "#print(len(A))\n",
        "#print(A)\n",
        "m2 = quick_sort_count(A,0,len(A),2)\n",
        "#print(A)\n",
        "print(m2)\n",
        "\n",
        "#m=3\n",
        "f = open(\"20.txt\",'r')\n",
        "A = []\n",
        "for line in f:\n",
        "    a = int(line)  # int() removes \\n\n",
        "    A.append(a)\n",
        "#print(len(A))\n",
        "#print(A)\n",
        "m3 = quick_sort_count(A,0,len(A),3)\n",
        "#print(A)\n",
        "print(m3)\n",
        "\n",
        "# output\n",
        "#[m1 m2 m3]=[76 75 60]"
      ],
      "execution_count": 7,
      "outputs": [
        {
          "output_type": "stream",
          "text": [
            "76\n",
            "75\n",
            "60\n"
          ],
          "name": "stdout"
        }
      ]
    },
    {
      "cell_type": "code",
      "metadata": {
        "id": "tpjkotLeIVAu",
        "colab_type": "code",
        "colab": {
          "base_uri": "https://localhost:8080/",
          "height": 68
        },
        "outputId": "c2f9db56-1d72-4652-8e22-06fac1c297c3"
      },
      "source": [
        "# read file line by line\n",
        "#TEST CASE - 5\n",
        "#m=1\n",
        "f = open(\"20_2.txt\",'r')\n",
        "A = []\n",
        "for line in f:\n",
        "    a = int(line)  # int() removes \\n\n",
        "    A.append(a)\n",
        "#print(len(A))\n",
        "#print(A)\n",
        "m = quick_sort_count(A,0,len(A),1)\n",
        "#print(A)\n",
        "print(m)\n",
        "\n",
        "#m=2\n",
        "f = open(\"20_2.txt\",'r')\n",
        "A = []\n",
        "for line in f:\n",
        "    a = int(line)  # int() removes \\n\n",
        "    A.append(a)\n",
        "#print(len(A))\n",
        "#print(A)\n",
        "m2 = quick_sort_count(A,0,len(A),2)\n",
        "#print(A)\n",
        "print(m2)\n",
        "\n",
        "#m=3\n",
        "f = open(\"20_2.txt\",'r')\n",
        "A = []\n",
        "for line in f:\n",
        "    a = int(line)  # int() removes \\n\n",
        "    A.append(a)\n",
        "#print(len(A))\n",
        "#print(A)\n",
        "m3 = quick_sort_count(A,0,len(A),3)\n",
        "#print(A)\n",
        "print(m3)\n",
        "\n",
        "# output\n",
        "#[m1 m2 m3]=[69 65 56]"
      ],
      "execution_count": 8,
      "outputs": [
        {
          "output_type": "stream",
          "text": [
            "69\n",
            "65\n",
            "56\n"
          ],
          "name": "stdout"
        }
      ]
    },
    {
      "cell_type": "code",
      "metadata": {
        "id": "szCKPrmGIdAi",
        "colab_type": "code",
        "colab": {
          "base_uri": "https://localhost:8080/",
          "height": 68
        },
        "outputId": "cb4794e2-bbb5-457b-878b-c6ecd499dbd0"
      },
      "source": [
        "# read file line by line\n",
        "#TEST CASE - ORIGINAL\n",
        "#m=1\n",
        "f = open(\"QuickSort.txt\",'r')\n",
        "A = []\n",
        "for line in f:\n",
        "    a = int(line)  # int() removes \\n\n",
        "    A.append(a)\n",
        "#print(len(A))\n",
        "#print(A[:10])\n",
        "m = quick_sort_count(A,0,len(A),1)\n",
        "#print(A[:10])\n",
        "print(m)\n",
        "\n",
        "#m=2\n",
        "f = open(\"QuickSort.txt\",'r')\n",
        "A = []\n",
        "for line in f:\n",
        "    a = int(line)  # int() removes \\n\n",
        "    A.append(a)\n",
        "#print(len(A))\n",
        "#print(A[:10])\n",
        "m2 = quick_sort_count(A,0,len(A),2)\n",
        "#print(A[:10])\n",
        "print(m2)\n",
        "\n",
        "#m=3\n",
        "f = open(\"QuickSort.txt\",'r')\n",
        "A = []\n",
        "for line in f:\n",
        "    a = int(line)  # int() removes \\n\n",
        "    A.append(a)\n",
        "#print(len(A))\n",
        "#print(A[:10])\n",
        "m3 = quick_sort_count(A,0,len(A),3)\n",
        "#print(A[:10])\n",
        "print(m3)\n",
        "\n",
        "# output\n",
        "#[m1 m2 m3]=[69 65 56]"
      ],
      "execution_count": 9,
      "outputs": [
        {
          "output_type": "stream",
          "text": [
            "162085\n",
            "164123\n",
            "138382\n"
          ],
          "name": "stdout"
        }
      ]
    },
    {
      "cell_type": "code",
      "metadata": {
        "id": "8QrZa3pZPsL0",
        "colab_type": "code",
        "colab": {}
      },
      "source": [
        ""
      ],
      "execution_count": 0,
      "outputs": []
    }
  ]
}