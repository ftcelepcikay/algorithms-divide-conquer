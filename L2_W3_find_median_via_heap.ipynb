{
  "nbformat": 4,
  "nbformat_minor": 0,
  "metadata": {
    "colab": {
      "name": "L2_W3_find_median_via_heap.ipynb",
      "provenance": [],
      "authorship_tag": "ABX9TyPXE+BQPBEpmMn8dXQvTyrC",
      "include_colab_link": true
    },
    "kernelspec": {
      "name": "python3",
      "display_name": "Python 3"
    }
  },
  "cells": [
    {
      "cell_type": "markdown",
      "metadata": {
        "id": "view-in-github",
        "colab_type": "text"
      },
      "source": [
        "<a href=\"https://colab.research.google.com/github/ftcelepcikay/algorithms-divide-conquer/blob/master/L2_W3_find_median_via_heap.ipynb\" target=\"_parent\"><img src=\"https://colab.research.google.com/assets/colab-badge.svg\" alt=\"Open In Colab\"/></a>"
      ]
    },
    {
      "cell_type": "code",
      "metadata": {
        "id": "j6MsIASSPRqr",
        "colab_type": "code",
        "colab": {}
      },
      "source": [
        "from heapq import heappop, heappush, heapify"
      ],
      "execution_count": 1,
      "outputs": []
    },
    {
      "cell_type": "code",
      "metadata": {
        "id": "Jd3L1BAkNp0D",
        "colab_type": "code",
        "colab": {}
      },
      "source": [
        "# this function reads the test case line by line. And at each step it finds median.\n",
        "# it utilized two heaps, namely, low and high. Thus cost is O(log(n)).\n",
        "\n",
        "def find_median(test):\n",
        "  f = open(test+\".txt\",'r')\n",
        "  heap_low = []\n",
        "  heap_high = []\n",
        "\n",
        "  heappush(heap_high,int(f.readline()))  # to read the first number and push it to heap_high\n",
        "  median_sum = heap_high[0]\n",
        "\n",
        "  for elem in f:\n",
        "    elem = elem.split()\n",
        "    if(len(elem)==0): continue  # if elem is empty line\n",
        "    elem = int(elem[0])   \n",
        "    #print(\"\\nnew integer: \", elem)\n",
        "    if (elem < heap_high[0]):\n",
        "      heappush(heap_low,-elem)\n",
        "    else:\n",
        "      heappush(heap_high,elem)\n",
        "\n",
        "    if ((len(heap_low)-len(heap_high)) == 2):  # to balance the size of the heaps\n",
        "      a = heappop(heap_low)\n",
        "      heappush(heap_high,-a)\n",
        "    elif ((len(heap_high)-len(heap_low)) == 2):\n",
        "      a = heappop(heap_high)\n",
        "      heappush(heap_low,-a)\n",
        "\n",
        "    if (len(heap_low)<len(heap_high)):\n",
        "      median = heap_high[0]\n",
        "    else:\n",
        "      median = -heap_low[0]\n",
        "    \n",
        "    median_sum += median\n",
        "    # print(\"heap_high: \", heap_high)\n",
        "    # print(\"heap_low: [\", ', '.join(str(-x) for x in heap_low), \"]\")\n",
        "    # print(\"median: \", median)\n",
        "\n",
        "  print(median_sum%10000)"
      ],
      "execution_count": 2,
      "outputs": []
    },
    {
      "cell_type": "code",
      "metadata": {
        "id": "5UpXZjc5j64O",
        "colab_type": "code",
        "colab": {
          "base_uri": "https://localhost:8080/",
          "height": 34
        },
        "outputId": "ed6aab25-f1e7-46cb-cb94-f059df109b32"
      },
      "source": [
        "find_median(\"test1\")\n",
        "# answer = 113"
      ],
      "execution_count": 3,
      "outputs": [
        {
          "output_type": "stream",
          "text": [
            "113\n"
          ],
          "name": "stdout"
        }
      ]
    },
    {
      "cell_type": "code",
      "metadata": {
        "id": "h8k7TisHj-nX",
        "colab_type": "code",
        "colab": {
          "base_uri": "https://localhost:8080/",
          "height": 34
        },
        "outputId": "8c06b834-2c66-44ef-fcd1-6b443fb647e3"
      },
      "source": [
        "find_median(\"test2\")\n",
        "# answer = 142"
      ],
      "execution_count": 4,
      "outputs": [
        {
          "output_type": "stream",
          "text": [
            "142\n"
          ],
          "name": "stdout"
        }
      ]
    },
    {
      "cell_type": "code",
      "metadata": {
        "id": "tSnJHYIPk3WX",
        "colab_type": "code",
        "colab": {
          "base_uri": "https://localhost:8080/",
          "height": 34
        },
        "outputId": "8d2a5e76-2a14-43fc-99a9-7c9f39a067c8"
      },
      "source": [
        "find_median(\"test3\")\n",
        "# answer = 9335"
      ],
      "execution_count": 5,
      "outputs": [
        {
          "output_type": "stream",
          "text": [
            "9335\n"
          ],
          "name": "stdout"
        }
      ]
    },
    {
      "cell_type": "code",
      "metadata": {
        "id": "v8Wpx5KcmXSd",
        "colab_type": "code",
        "colab": {
          "base_uri": "https://localhost:8080/",
          "height": 34
        },
        "outputId": "eebe301b-438c-438d-b2c8-9328512eedcc"
      },
      "source": [
        "find_median(\"test4\")\n",
        "# answer = 695"
      ],
      "execution_count": 6,
      "outputs": [
        {
          "output_type": "stream",
          "text": [
            "695\n"
          ],
          "name": "stdout"
        }
      ]
    },
    {
      "cell_type": "code",
      "metadata": {
        "id": "llW3_jcwm09N",
        "colab_type": "code",
        "colab": {
          "base_uri": "https://localhost:8080/",
          "height": 34
        },
        "outputId": "68b1245b-834b-482a-d0e5-1b2c68e1000f"
      },
      "source": [
        "find_median(\"Median\")\n",
        "# answer = 1213"
      ],
      "execution_count": 7,
      "outputs": [
        {
          "output_type": "stream",
          "text": [
            "1213\n"
          ],
          "name": "stdout"
        }
      ]
    }
  ]
}