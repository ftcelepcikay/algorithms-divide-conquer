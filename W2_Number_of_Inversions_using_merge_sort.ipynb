{
  "nbformat": 4,
  "nbformat_minor": 0,
  "metadata": {
    "colab": {
      "name": "W2_Number_of_Inversions_using_merge_sort.ipynb",
      "provenance": [],
      "collapsed_sections": [],
      "toc_visible": true,
      "authorship_tag": "ABX9TyPepFlJKP3LHEb5QoVvwQ18",
      "include_colab_link": true
    },
    "kernelspec": {
      "name": "python3",
      "display_name": "Python 3"
    }
  },
  "cells": [
    {
      "cell_type": "markdown",
      "metadata": {
        "id": "view-in-github",
        "colab_type": "text"
      },
      "source": [
        "<a href=\"https://colab.research.google.com/github/ftcelepcikay/algorithms-divide-conquer/blob/master/W2_Number_of_Inversions_using_merge_sort.ipynb\" target=\"_parent\"><img src=\"https://colab.research.google.com/assets/colab-badge.svg\" alt=\"Open In Colab\"/></a>"
      ]
    },
    {
      "cell_type": "code",
      "metadata": {
        "id": "HH6QCAjDkwLb",
        "colab_type": "code",
        "colab": {}
      },
      "source": [
        "def count_split_inv(B,C,n):\n",
        "  D = [0]*n\n",
        "  i = 0\n",
        "  j = 0\n",
        "  Z = 0\n",
        "  lenB = len(B)\n",
        "  lenC = len(C)\n",
        "  for k in range(n):\n",
        "    if(j==lenC):\n",
        "      D[k] = B[i]\n",
        "      i+=1\n",
        "      continue\n",
        "    if(i==lenB):\n",
        "      D[k] = C[j]\n",
        "      j+=1\n",
        "      Z += lenB-i\n",
        "      continue\n",
        "    if(B[i]<C[j]):\n",
        "      D[k] = B[i]\n",
        "      i+=1\n",
        "    elif(B[i]>C[j]):\n",
        "      D[k] = C[j]\n",
        "      j+=1\n",
        "      Z += lenB-i\n",
        "  return D,Z\n"
      ],
      "execution_count": 0,
      "outputs": []
    },
    {
      "cell_type": "code",
      "metadata": {
        "id": "Cjmi7LbwgjJX",
        "colab_type": "code",
        "colab": {}
      },
      "source": [
        "def sort_count(A,n):\n",
        "  if(n==1):\n",
        "    return A, 0\n",
        "  else:\n",
        "    B,X = sort_count(A[:n//2],n//2)\n",
        "    C,Y = sort_count(A[n//2:],n-n//2)\n",
        "    D,Z = count_split_inv(B,C,n)\n",
        "  return D,X+Y+Z"
      ],
      "execution_count": 0,
      "outputs": []
    },
    {
      "cell_type": "code",
      "metadata": {
        "id": "CBmsQIB9mvpK",
        "colab_type": "code",
        "colab": {
          "base_uri": "https://localhost:8080/",
          "height": 68
        },
        "outputId": "47b48023-5a6e-4e59-a465-345664af88ff"
      },
      "source": [
        "#TEST CASE - 1\n",
        "A = [1,3,5,2,4,8,7,6]\n",
        "print(A)\n",
        "A,m = sort_count(A,len(A))\n",
        "print(A)\n",
        "print(m)"
      ],
      "execution_count": 3,
      "outputs": [
        {
          "output_type": "stream",
          "text": [
            "[1, 3, 5, 2, 4, 8, 7, 6]\n",
            "[1, 2, 3, 4, 5, 6, 7, 8]\n",
            "6\n"
          ],
          "name": "stdout"
        }
      ]
    },
    {
      "cell_type": "code",
      "metadata": {
        "id": "oylnrRVAnnqC",
        "colab_type": "code",
        "colab": {
          "base_uri": "https://localhost:8080/",
          "height": 68
        },
        "outputId": "8a85fecd-608a-41cf-e098-27ceee4555ce"
      },
      "source": [
        "#TEST CASE - 2\n",
        "A = [1,5,3,2,4]\n",
        "print(A)\n",
        "A,m = sort_count(A,len(A))\n",
        "print(A)\n",
        "print(m)\n",
        "#ANS - 4"
      ],
      "execution_count": 4,
      "outputs": [
        {
          "output_type": "stream",
          "text": [
            "[1, 5, 3, 2, 4]\n",
            "[1, 2, 3, 4, 5]\n",
            "4\n"
          ],
          "name": "stdout"
        }
      ]
    },
    {
      "cell_type": "code",
      "metadata": {
        "id": "oMtlhOgIKQj6",
        "colab_type": "code",
        "colab": {
          "base_uri": "https://localhost:8080/",
          "height": 68
        },
        "outputId": "e3fbd1e8-b69a-4363-dc80-d760c955827d"
      },
      "source": [
        "#TEST CASE - 3\n",
        "A= [5,4,3,2,1]\n",
        "print(A)\n",
        "A,m = sort_count(A,len(A))\n",
        "print(A)\n",
        "print(m)\n",
        "\n",
        "#ANS - 10\n"
      ],
      "execution_count": 5,
      "outputs": [
        {
          "output_type": "stream",
          "text": [
            "[5, 4, 3, 2, 1]\n",
            "[1, 2, 3, 4, 5]\n",
            "10\n"
          ],
          "name": "stdout"
        }
      ]
    },
    {
      "cell_type": "code",
      "metadata": {
        "id": "PfnZxCTCKQ9J",
        "colab_type": "code",
        "colab": {
          "base_uri": "https://localhost:8080/",
          "height": 68
        },
        "outputId": "e9309ada-bd41-4adc-9f8f-466ca44ee3c5"
      },
      "source": [
        "#TEST CASE - 4\n",
        "A = [1,6,3,2,4,5]\n",
        "print(A)\n",
        "A,m = sort_count(A,len(A))\n",
        "print(A)\n",
        "print(m)\n",
        "\n",
        "#ANS - 5"
      ],
      "execution_count": 6,
      "outputs": [
        {
          "output_type": "stream",
          "text": [
            "[1, 6, 3, 2, 4, 5]\n",
            "[1, 2, 3, 4, 5, 6]\n",
            "5\n"
          ],
          "name": "stdout"
        }
      ]
    },
    {
      "cell_type": "code",
      "metadata": {
        "id": "MJHVD9_EKRFc",
        "colab_type": "code",
        "colab": {
          "base_uri": "https://localhost:8080/",
          "height": 68
        },
        "outputId": "11f4141e-b9d3-4538-cb82-0df861c240a6"
      },
      "source": [
        "#Test Case - #1 - 15 numbers\n",
        "A = [ 9, 12, 3, 1, 6, 8, 2, 5, 14, 13, 11, 7, 10, 4, 0 ]\n",
        "print(A)\n",
        "A,m = sort_count(A,len(A))\n",
        "print(A)\n",
        "print(m)\n",
        "#Ans - 56"
      ],
      "execution_count": 7,
      "outputs": [
        {
          "output_type": "stream",
          "text": [
            "[9, 12, 3, 1, 6, 8, 2, 5, 14, 13, 11, 7, 10, 4, 0]\n",
            "[0, 1, 2, 3, 4, 5, 6, 7, 8, 9, 10, 11, 12, 13, 14]\n",
            "56\n"
          ],
          "name": "stdout"
        }
      ]
    },
    {
      "cell_type": "code",
      "metadata": {
        "id": "CYJoKZCpKRXV",
        "colab_type": "code",
        "colab": {
          "base_uri": "https://localhost:8080/",
          "height": 68
        },
        "outputId": "b06bfd92-47ff-4d1f-a8ef-c7e0178d8d73"
      },
      "source": [
        "#Test Case - #2 - 50 numbers\n",
        "\n",
        "A = [ 37, 7, 2, 14, 35, 47, 10, 24, 44, 17, 34, 11, 16, 48, 1, 39, 6, 33, 43, 26, 40, 4, 28, 5, 38, 41, 42, 12, 13, 21, 29, 18, 3, 19, 0, 32, 46, 27, 31, 25, 15, 36, 20, 8, 9, 49, 22, 23, 30, 45 ]\n",
        "print(A)\n",
        "A,m = sort_count(A,len(A))\n",
        "print(A)\n",
        "print(m)\n",
        "#Ans - 590"
      ],
      "execution_count": 8,
      "outputs": [
        {
          "output_type": "stream",
          "text": [
            "[37, 7, 2, 14, 35, 47, 10, 24, 44, 17, 34, 11, 16, 48, 1, 39, 6, 33, 43, 26, 40, 4, 28, 5, 38, 41, 42, 12, 13, 21, 29, 18, 3, 19, 0, 32, 46, 27, 31, 25, 15, 36, 20, 8, 9, 49, 22, 23, 30, 45]\n",
            "[0, 1, 2, 3, 4, 5, 6, 7, 8, 9, 10, 11, 12, 13, 14, 15, 16, 17, 18, 19, 20, 21, 22, 23, 24, 25, 26, 27, 28, 29, 30, 31, 32, 33, 34, 35, 36, 37, 38, 39, 40, 41, 42, 43, 44, 45, 46, 47, 48, 49]\n",
            "590\n"
          ],
          "name": "stdout"
        }
      ]
    },
    {
      "cell_type": "code",
      "metadata": {
        "id": "Yf3dok_1KejY",
        "colab_type": "code",
        "colab": {
          "base_uri": "https://localhost:8080/",
          "height": 88
        },
        "outputId": "5989abca-4675-411a-d827-3d36baddc284"
      },
      "source": [
        "\n",
        "#Test Case - #3 - 100 numbers\n",
        "\n",
        "A = [ 4, 80, 70, 23, 9, 60, 68, 27, 66, 78, 12, 40, 52, 53, 44, 8, 49, 28, 18, 46, 21, 39, 51, 7, 87, 99, 69, 62, 84, 6, 79, 67, 14, 98, 83, 0, 96, 5, 82, 10, 26, 48, 3, 2, 15, 92, 11, 55, 63, 97, 43, 45, 81, 42, 95, 20, 25, 74, 24, 72, 91, 35, 86, 19, 75, 58, 71, 47, 76, 59, 64, 93, 17, 50, 56, 94, 90, 89, 32, 37, 34, 65, 1, 73, 41, 36, 57, 77, 30, 22, 13, 29, 38, 16, 88, 61, 31, 85, 33, 54 ]\n",
        "print(A)\n",
        "A,m = sort_count(A,len(A))\n",
        "print(A)\n",
        "print(m)\n",
        "#Ans - 2372"
      ],
      "execution_count": 9,
      "outputs": [
        {
          "output_type": "stream",
          "text": [
            "[4, 80, 70, 23, 9, 60, 68, 27, 66, 78, 12, 40, 52, 53, 44, 8, 49, 28, 18, 46, 21, 39, 51, 7, 87, 99, 69, 62, 84, 6, 79, 67, 14, 98, 83, 0, 96, 5, 82, 10, 26, 48, 3, 2, 15, 92, 11, 55, 63, 97, 43, 45, 81, 42, 95, 20, 25, 74, 24, 72, 91, 35, 86, 19, 75, 58, 71, 47, 76, 59, 64, 93, 17, 50, 56, 94, 90, 89, 32, 37, 34, 65, 1, 73, 41, 36, 57, 77, 30, 22, 13, 29, 38, 16, 88, 61, 31, 85, 33, 54]\n",
            "[0, 1, 2, 3, 4, 5, 6, 7, 8, 9, 10, 11, 12, 13, 14, 15, 16, 17, 18, 19, 20, 21, 22, 23, 24, 25, 26, 27, 28, 29, 30, 31, 32, 33, 34, 35, 36, 37, 38, 39, 40, 41, 42, 43, 44, 45, 46, 47, 48, 49, 50, 51, 52, 53, 54, 55, 56, 57, 58, 59, 60, 61, 62, 63, 64, 65, 66, 67, 68, 69, 70, 71, 72, 73, 74, 75, 76, 77, 78, 79, 80, 81, 82, 83, 84, 85, 86, 87, 88, 89, 90, 91, 92, 93, 94, 95, 96, 97, 98, 99]\n",
            "2372\n"
          ],
          "name": "stdout"
        }
      ]
    },
    {
      "cell_type": "code",
      "metadata": {
        "id": "qsN0JTLxQym1",
        "colab_type": "code",
        "colab": {
          "base_uri": "https://localhost:8080/",
          "height": 51
        },
        "outputId": "ed7ebd8a-9faf-4045-de02-6a3e8bdb436b"
      },
      "source": [
        "# read file line by line\n",
        "f = open(\"IntegerArray.txt\",'r')\n",
        "A = []\n",
        "for line in f:\n",
        "    a = int(line)  # int() removes \\n\n",
        "    A.append(a)\n",
        "print(len(A))\n",
        "print(A[:10])    "
      ],
      "execution_count": 10,
      "outputs": [
        {
          "output_type": "stream",
          "text": [
            "100000\n",
            "[54044, 14108, 79294, 29649, 25260, 60660, 2995, 53777, 49689, 9083]\n"
          ],
          "name": "stdout"
        }
      ]
    },
    {
      "cell_type": "code",
      "metadata": {
        "id": "qrcRUii1Ttvo",
        "colab_type": "code",
        "colab": {
          "base_uri": "https://localhost:8080/",
          "height": 51
        },
        "outputId": "d9a0f8dd-aac0-4c2c-865d-3f960c0c4cb6"
      },
      "source": [
        "A,m = sort_count(A,len(A))\n",
        "print(A[:10])\n",
        "print(m)"
      ],
      "execution_count": 11,
      "outputs": [
        {
          "output_type": "stream",
          "text": [
            "[1, 2, 3, 4, 5, 6, 7, 8, 9, 10]\n",
            "2407905288\n"
          ],
          "name": "stdout"
        }
      ]
    },
    {
      "cell_type": "code",
      "metadata": {
        "id": "mlw_8wsjT2Bn",
        "colab_type": "code",
        "colab": {}
      },
      "source": [
        ""
      ],
      "execution_count": 0,
      "outputs": []
    }
  ]
}